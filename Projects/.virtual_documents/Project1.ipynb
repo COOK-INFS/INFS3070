import pandas as pd
import matplotlib.pyplot as plt

df = pd.read_csv('http://128.198.162.191/pydev/dataFiles/VIDEO-GAMES/Video_Games.csv')


df.info()


df.head()


bestGames = df.sort_values(by='Global_Sales', ascending=False)

topGame = bestGames.head(1)

topFinal = topGame[['Name', 'Global_Sales']]

print('Top selling game:')
print(topFinal)


GameName = df.groupby('Name')['Global_Sales'].sum().sort_values(ascending=False)

GameName.head(5)


# Find the top selling video game by global sales
top_selling_game = df.loc[df['Global_Sales'].idxmax()]

print(top_selling_game)


bestUsers = df.sort_values(by='User_Count', ascending=False)

topUser = bestUsers.head(1)

userFinal = topUser[['Name', 'User_Count']]

print('Top game by User count: ')
print(userFinal)


GameName = df.groupby('Name')['User_Count'].sum().sort_values(ascending=False)

GameName.head(5)


bestGame = df.sort_values(by='NA_Sales', ascending=False)

bestGame.head(10)

topTen = bestGame.head(10)

# Visualize the results.
plt.figure(figsize=(12,6))

# Fields used to display the chart
plt.bar(topTen['Name'], topTen['NA_Sales'])

plt.title('Top 10 Most successful games in North America')
plt.xlabel('Name')
plt.ylabel('Units Sold')
plt.xticks(rotation=45)
plt.show()


topGames = df.sort_values(by='NA_Sales', ascending=False)

after2010 = (topGames.query('Year_of_Release > 2010'))

tenAfter2010 = after2010.head(10)

print(tenAfter2010[['Name', 'NA_Sales', 'Year_of_Release']])


# Visualize the results.
plt.figure(figsize=(12,6))

# Fields used to display the chart
plt.bar(topTen['Name'], topTen['NA_Sales'])

plt.title('Top 10 Most successful games in North America')
plt.xlabel('Name')
plt.ylabel('Units Sold')
plt.xticks(rotation=45)

# Enable grid only on the y-axis for each unit
plt.grid(True, which='both', axis='y', linestyle='--', linewidth=0.5, alpha=0.7)

plt.show()


totalUnitsByYear = df.groupby('Year_of_Release')['Global_Sales'].sum()

print(totalUnitsByYear)


plt.figure(figsize=(25,6))

plt.plot(totalUnitsByYear.index, totalUnitsByYear.values)

plt.xlabel('Year of Release')
plt.xticks(rotation=45, fontsize=18)
plt.ylabel('Total Units (Millions)')
plt.yticks(fontsize=18)
plt.title('Total units sold for all years')
plt.grid()
plt.show()



