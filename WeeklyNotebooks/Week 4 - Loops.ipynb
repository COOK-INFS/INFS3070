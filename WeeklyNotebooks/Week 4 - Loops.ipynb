{
 "cells": [
  {
   "cell_type": "markdown",
   "id": "581af839-b270-4efc-b0d4-15cf5dfa8251",
   "metadata": {},
   "source": [
    "# While loop example"
   ]
  },
  {
   "cell_type": "code",
   "execution_count": 1,
   "id": "36026cad-1682-492e-adf0-7788960d06cf",
   "metadata": {
    "tags": []
   },
   "outputs": [
    {
     "name": "stdout",
     "output_type": "stream",
     "text": [
      "1\n",
      "2\n",
      "3\n",
      "4\n",
      "5\n",
      "6\n",
      "7\n",
      "8\n",
      "9\n",
      "10\n"
     ]
    }
   ],
   "source": [
    "x = 1\n",
    "\n",
    "while x < 11:\n",
    "    print(x)\n",
    "    x += 1"
   ]
  },
  {
   "cell_type": "markdown",
   "id": "6e9a206e-615e-4a22-bb86-2b304dec29c5",
   "metadata": {},
   "source": [
    "### Break statement example\n",
    "\n",
    "This example demonstrates how the 'break' keyword can allow us to exit the loop under certain conditions."
   ]
  },
  {
   "cell_type": "code",
   "execution_count": 2,
   "id": "82a03d49-64d5-480d-8c0b-0f2afd35361b",
   "metadata": {
    "tags": []
   },
   "outputs": [
    {
     "name": "stdout",
     "output_type": "stream",
     "text": [
      "1\n",
      "2\n",
      "3\n",
      "4\n",
      "5\n"
     ]
    }
   ],
   "source": [
    "x = 1\n",
    "\n",
    "while x < 11:\n",
    "    print(x)\n",
    "    if x == 5:\n",
    "        break\n",
    "    x += 1"
   ]
  },
  {
   "cell_type": "markdown",
   "id": "c74462c0-96ef-434b-a9b5-9a5e19ee997f",
   "metadata": {},
   "source": [
    "### Continue statement example\n",
    "Where a break statement will 'break' the running of the code out of the loop, a continue statement will allow us to continue or 'bypass' specific conditions."
   ]
  },
  {
   "cell_type": "code",
   "execution_count": 4,
   "id": "03705c37-fb87-4ef9-97c7-7a78d9b3fce7",
   "metadata": {
    "tags": []
   },
   "outputs": [
    {
     "name": "stdout",
     "output_type": "stream",
     "text": [
      "1\n",
      "2\n",
      "3\n",
      "4\n",
      "6\n",
      "7\n",
      "8\n",
      "9\n",
      "10\n",
      "11\n"
     ]
    }
   ],
   "source": [
    "x = 0\n",
    "\n",
    "while x < 11:\n",
    "    x += 1\n",
    "    if x ==5:\n",
    "        continue\n",
    "    print(x)"
   ]
  },
  {
   "cell_type": "markdown",
   "id": "3e2af8a1-4e65-4315-9978-c795caa7fab5",
   "metadata": {},
   "source": [
    "# For loop examples\n",
    "Common uses for For loops include looping through an index a fixed number of times. The \"range()\" function generates a sequence of numbers, which you can loop through."
   ]
  },
  {
   "cell_type": "code",
   "execution_count": 5,
   "id": "cb0f5eec-eb59-4f91-aa47-4c544852e306",
   "metadata": {
    "tags": []
   },
   "outputs": [
    {
     "name": "stdout",
     "output_type": "stream",
     "text": [
      "1\n",
      "4\n",
      "9\n",
      "16\n",
      "25\n"
     ]
    }
   ],
   "source": [
    "for index in range(1, 6):\n",
    "    print (index*index)"
   ]
  },
  {
   "cell_type": "markdown",
   "id": "d11bc3a9-0ac7-4f47-9bd8-150f416de141",
   "metadata": {},
   "source": [
    "### Interating over a sequence\n",
    "You can use a For loop to execute a block of code for each item in a list, tuple, etc."
   ]
  },
  {
   "cell_type": "code",
   "execution_count": 9,
   "id": "a5f0584c-8727-4c58-b82d-4e22c852737e",
   "metadata": {
    "tags": []
   },
   "outputs": [
    {
     "name": "stdout",
     "output_type": "stream",
     "text": [
      "1\n",
      "2\n",
      "3\n",
      "4\n",
      "5\n"
     ]
    }
   ],
   "source": [
    "numbers = [1, 2, 3, 4, 5]\n",
    "\n",
    "for index in numbers:\n",
    "    print(index)"
   ]
  },
  {
   "cell_type": "markdown",
   "id": "0eb8f9ff-5901-48c8-b269-351d4ea13609",
   "metadata": {},
   "source": [
    "### Loop control statements: \n",
    "Within a For loop, you can control the flow with a break, continue, and else, but not if the loop exited through a break."
   ]
  },
  {
   "cell_type": "code",
   "execution_count": 12,
   "id": "95268883-8362-4a7a-a46b-f0c0173397e0",
   "metadata": {
    "tags": []
   },
   "outputs": [
    {
     "name": "stdout",
     "output_type": "stream",
     "text": [
      "1\n",
      "2\n",
      "3\n",
      "4\n",
      "5\n",
      "6\n",
      "Number 5 found, stopping the loop!\n"
     ]
    }
   ],
   "source": [
    "numbers = [1, 2, 3, 4, 5, 6, 7, 8, 9, 10]\n",
    "\n",
    "value = 7\n",
    "\n",
    "for searchValue in numbers:\n",
    "    if searchValue == value:\n",
    "        print(\"Number 5 found, stopping the loop!\")\n",
    "        break\n",
    "    print(searchValue)"
   ]
  },
  {
   "cell_type": "markdown",
   "id": "8655c091-b062-4333-9e92-bb96ab35bd44",
   "metadata": {},
   "source": [
    "### Stackoverflow format"
   ]
  },
  {
   "cell_type": "code",
   "execution_count": 13,
   "id": "3bb3bb74-4020-4a34-bb38-ad946f954eab",
   "metadata": {
    "tags": []
   },
   "outputs": [
    {
     "name": "stdout",
     "output_type": "stream",
     "text": [
      "1\n",
      "2\n",
      "3\n",
      "4\n",
      "5\n",
      "6\n",
      "Number 5 found, stopping the loop!\n"
     ]
    }
   ],
   "source": [
    "numbers = [1, 2, 3, 4, 5, 6, 7, 8, 9, 10]\n",
    "\n",
    "value = 7\n",
    "\n",
    "for i in numbers:\n",
    "    if i == value:\n",
    "        print(\"Number 5 found, stopping the loop!\")\n",
    "        break\n",
    "    print(i)"
   ]
  },
  {
   "cell_type": "markdown",
   "id": "255111e1-2d3a-4789-a62f-30b36eed259a",
   "metadata": {},
   "source": [
    "### Nested Loops\n",
    "You can place a loop inside another loop. Often used in multi-dimensional data structures."
   ]
  },
  {
   "cell_type": "code",
   "execution_count": 14,
   "id": "c2d0e260-be64-4546-a21a-8cf52aec2fcc",
   "metadata": {
    "tags": []
   },
   "outputs": [
    {
     "name": "stdout",
     "output_type": "stream",
     "text": [
      "1\n",
      "2\n",
      "3\n",
      "4\n",
      "5\n",
      "6\n",
      "7\n",
      "8\n",
      "9\n"
     ]
    }
   ],
   "source": [
    "matrix = [[1, 2, 3], [4, 5, 6], [7, 8, 9]]\n",
    "\n",
    "for row in matrix:\n",
    "    for element in row:\n",
    "        print(element)\n",
    "\n"
   ]
  },
  {
   "cell_type": "markdown",
   "id": "52a14392-e288-44bb-9542-d9df972502f1",
   "metadata": {},
   "source": [
    "# Texbook Programming project example from chapter 4\n",
    "\n",
    "At one college, the tuition for a full-time student is $8,000 per semester. It has been announced that the tuition will increase by 3 percent each year for the next 5 years. Write a program with a loop that displays the projected semester tuition amount for the next 5 years.\n",
    "Your program’s output must exactly match the output shown in the sample run below. Notice the wording of the messages and the placement of spaces and punctuation. Also, make sure that the tuition amounts are rounded to two decimal places.\n"
   ]
  },
  {
   "cell_type": "code",
   "execution_count": 23,
   "id": "ef7d8b6f-7505-41c8-9c5c-1aeaf64f499c",
   "metadata": {
    "tags": []
   },
   "outputs": [
    {
     "name": "stdout",
     "output_type": "stream",
     "text": [
      "In 1 year, the tuition will be $8240.0.\n",
      "In 2 years, the tuition will be $8487.20.\n",
      "In 3 years, the tuition will be $8741.82.\n",
      "In 4 years, the tuition will be $9004.07.\n",
      "In 5 years, the tuition will be $9274.19.\n"
     ]
    }
   ],
   "source": [
    "tuition = 8000\n",
    "\n",
    "for index in range(1, 6):\n",
    "    tuition *= 1.03\n",
    "    if index == 1:\n",
    "        print(f'In 1 year, the tuition will be ${tuition}.')\n",
    "    else:\n",
    "        print(f'In {index} years, the tuition will be ${tuition:.2f}.')\n",
    "    "
   ]
  },
  {
   "cell_type": "markdown",
   "id": "dc557589-2860-40c8-8625-83a93428fe1c",
   "metadata": {},
   "source": [
    "# List example"
   ]
  },
  {
   "cell_type": "code",
   "execution_count": 24,
   "id": "e2e25ac3-1a01-4def-98b7-b9dff456b360",
   "metadata": {
    "tags": []
   },
   "outputs": [
    {
     "name": "stdout",
     "output_type": "stream",
     "text": [
      "Jeep\n"
     ]
    }
   ],
   "source": [
    "vehicles = ['F350', 'Jeep', 'Ram', 'Motorcycle']\n",
    "print (vehicles[1])"
   ]
  },
  {
   "cell_type": "markdown",
   "id": "9bbd0af5-c2a7-4ea4-89b1-c1b2e9849c81",
   "metadata": {},
   "source": [
    "### Updating values in a list"
   ]
  },
  {
   "cell_type": "code",
   "execution_count": 25,
   "id": "fabc8ead-c0c0-4241-b126-591bc4373630",
   "metadata": {
    "tags": []
   },
   "outputs": [
    {
     "name": "stdout",
     "output_type": "stream",
     "text": [
      "Airplane\n"
     ]
    }
   ],
   "source": [
    "vehicles = ['F350', 'Jeep', 'Ram', 'Motorcycle']\n",
    "vehicles[0] = 'Airplane'\n",
    "\n",
    "print (vehicles[0])"
   ]
  },
  {
   "cell_type": "markdown",
   "id": "ccffdc31-7baa-480a-83d7-dad60b5e5836",
   "metadata": {},
   "source": [
    "### Iterating through the list"
   ]
  },
  {
   "cell_type": "code",
   "execution_count": 26,
   "id": "ef0eb85e-6407-440f-bf5d-09520a9643ed",
   "metadata": {
    "tags": []
   },
   "outputs": [
    {
     "name": "stdout",
     "output_type": "stream",
     "text": [
      "F350\n",
      "Jeep\n",
      "Ram\n",
      "Motorcycle\n"
     ]
    }
   ],
   "source": [
    "vehicles = ['F350', 'Jeep', 'Ram', 'Motorcycle']\n",
    "\n",
    "for i in vehicles:\n",
    "    print(i)"
   ]
  },
  {
   "cell_type": "code",
   "execution_count": null,
   "id": "730af8bb-4356-4a2a-bde5-847be98ccf1e",
   "metadata": {},
   "outputs": [],
   "source": []
  }
 ],
 "metadata": {
  "kernelspec": {
   "display_name": "Python 3 (ipykernel)",
   "language": "python",
   "name": "python3"
  },
  "language_info": {
   "codemirror_mode": {
    "name": "ipython",
    "version": 3
   },
   "file_extension": ".py",
   "mimetype": "text/x-python",
   "name": "python",
   "nbconvert_exporter": "python",
   "pygments_lexer": "ipython3",
   "version": "3.11.4"
  }
 },
 "nbformat": 4,
 "nbformat_minor": 5
}
