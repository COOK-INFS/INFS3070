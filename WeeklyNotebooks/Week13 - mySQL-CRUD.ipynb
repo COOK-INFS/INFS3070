{
 "cells": [
  {
   "cell_type": "markdown",
   "id": "94610d4b-3cd4-4f8d-9a88-0cb6bf930879",
   "metadata": {
    "tags": []
   },
   "source": [
    "# Using Python to connect to a MySQL database\n",
    "\n",
    "To connect to a database we must import the appropriate libraries and have the database connection information at hand."
   ]
  },
  {
   "cell_type": "markdown",
   "id": "e7f8394b-2f79-4c1f-b1e2-2b1ce4dad536",
   "metadata": {
    "jp-MarkdownHeadingCollapsed": true,
    "tags": []
   },
   "source": [
    "## Install the appropriate libaries\n"
   ]
  },
  {
   "cell_type": "markdown",
   "id": "757af244-da91-40b5-91b5-864ffb16389d",
   "metadata": {},
   "source": [
    "\n",
    "**If you are using PIP to install Python components:**\n",
    "\n",
    "```pip3 install mysql-connector-python```\n",
    "\n",
    "-- OR if that does not work --\n",
    "\n",
    "```python3 -m pip install --user mysql-connector-python```\n",
    "\n",
    "\n",
    "**If you are using Anaconda to install Python components:**\n",
    "It would be a good idea to update your Anaconda install at this point.\n",
    "\n",
    "```conda update --all```\n",
    "\n",
    "```conda install -c anaconda mysql-connector-python```"
   ]
  },
  {
   "cell_type": "markdown",
   "id": "ebb2419d-2c6a-46ca-bc6e-5e0b01865759",
   "metadata": {},
   "source": [
    "---"
   ]
  },
  {
   "cell_type": "markdown",
   "id": "8bb1a105-f2c9-4371-b2cb-31f71309ebcd",
   "metadata": {
    "tags": []
   },
   "source": [
    "## Ensure you have your database created with a table that meets the specific criteria"
   ]
  },
  {
   "cell_type": "markdown",
   "id": "dc657060-1e2b-4169-9c77-c257132dcc43",
   "metadata": {
    "tags": []
   },
   "source": [
    "Before we can begin writing our program to interact with the database, we must ensure the database exists and has tables with the appropriate structure. The database to use will be ‘infs3070’ and each student can create their own database table by either using PHPMyAdmin, or by using the SQL script from the command line.\n",
    "\n",
    "### Example SQL Script\n",
    "\n",
    "```CREATE DATABASE infs3070;```\n",
    "\n",
    "```CREATE TABLE `infs3070`.`rcook2` (`StudentID` INT NOT NULL AUTO_INCREMENT , `lastName` VARCHAR(45) NOT NULL , `firstName` VARCHAR(45) NOT NULL , `email` VARCHAR(45) NOT NULL , PRIMARY KEY (`StudentID`));```"
   ]
  },
  {
   "cell_type": "markdown",
   "id": "3c11ed70-01da-4e6d-8488-ea109d48e303",
   "metadata": {},
   "source": [
    "---\n"
   ]
  },
  {
   "cell_type": "markdown",
   "id": "6f12a483-0d8a-46af-9c20-ef8fedfe45dc",
   "metadata": {
    "jp-MarkdownHeadingCollapsed": true,
    "tags": []
   },
   "source": [
    "## Import the mysql connector"
   ]
  },
  {
   "cell_type": "code",
   "execution_count": null,
   "id": "2a1f3ee8-a8d6-4f11-bca8-54163d214032",
   "metadata": {},
   "outputs": [],
   "source": []
  },
  {
   "cell_type": "markdown",
   "id": "a5ee06a7-a31f-4eed-9ac2-102146113700",
   "metadata": {},
   "source": [
    "---"
   ]
  },
  {
   "cell_type": "markdown",
   "id": "fbc5cb29-0957-4ed4-87dc-593b04fcd7ca",
   "metadata": {
    "jp-MarkdownHeadingCollapsed": true,
    "tags": []
   },
   "source": [
    "## We have two options to create a connection\n",
    "Both options function equally well but have specific advantages and disadvantages depending on your specific project needs."
   ]
  },
  {
   "cell_type": "markdown",
   "id": "0a997c56-f323-43aa-9e41-bfaf7ba38824",
   "metadata": {
    "jp-MarkdownHeadingCollapsed": true,
    "tags": []
   },
   "source": [
    "### Option 1\n",
    "\n",
    "***Option 1:*** provides the connection information directly in our module."
   ]
  },
  {
   "cell_type": "code",
   "execution_count": null,
   "id": "bf17325e-8580-4a15-aac1-8d9e4f835933",
   "metadata": {},
   "outputs": [],
   "source": [
    "\n"
   ]
  },
  {
   "cell_type": "markdown",
   "id": "a0f033eb-a8f1-44aa-a79b-a550feef092b",
   "metadata": {
    "jp-MarkdownHeadingCollapsed": true,
    "tags": []
   },
   "source": [
    "### Option 2\n",
    "\n",
    "***Option 2:*** provides the connection information in a function in a separate file that we call in our module."
   ]
  },
  {
   "cell_type": "code",
   "execution_count": null,
   "id": "719a6fc8-b22e-49bc-896a-1cba8abef30b",
   "metadata": {},
   "outputs": [],
   "source": []
  },
  {
   "cell_type": "markdown",
   "id": "d5cc6dd3-1874-4863-af97-d591472113ee",
   "metadata": {},
   "source": [
    "---\n"
   ]
  },
  {
   "cell_type": "markdown",
   "id": "f2e63f40-92f0-411d-9ae3-e0caead3baf6",
   "metadata": {
    "jp-MarkdownHeadingCollapsed": true,
    "tags": []
   },
   "source": [
    "### __name__ == \"__main__\":"
   ]
  },
  {
   "cell_type": "markdown",
   "id": "1252152e-588b-4447-b3cb-2e8a150ed7a0",
   "metadata": {},
   "source": [
    "Python files are referred to as “modules”. A module can have functions, classes, and variables. When the Python interpreter runs a module, the ```__name__``` variable will be set as ```__main__``` if the module being run is the main program. But if the code is being run from another module, then the ```__name__``` variable will be set to that module’s (file) name.\n",
    "\n",
    "In Python, the if __name__ == '__main__': block is a conditional statement that checks whether the current module (Python file) is being run as the main program or if it is being imported as a module into another program.\n",
    "\n",
    "Here's how it works:\n",
    "\n",
    "1. Every Python module has a special variable called __name__. When a module is executed as the main program, the __name__ variable is set to the string '__main__'. However, if the module is being imported into another program, the __name__ variable is set to the name of the module.\n",
    "2. The if __name__ == '__main__': block allows you to specify code that should only be executed when the module is run as the main program. This block is typically placed at the end of the module, after all the function and class definitions.\n",
    "3. Any code inside the if __name__ == '__main__': block will be executed only if the module is run directly as the main program. If the module is imported into another program, the code inside this block will be skipped.\n",
    "\n",
    "\n",
    "Specifying this variable allows us to control which module the Python interpreter should consider the “main” module when there are multiple modules that are imported into other modules."
   ]
  },
  {
   "cell_type": "markdown",
   "id": "8c836b12-60ed-4fd5-a837-45456622f86a",
   "metadata": {},
   "source": [
    "---"
   ]
  },
  {
   "cell_type": "markdown",
   "id": "8d4715f4-fcd7-4033-80d8-065df127949d",
   "metadata": {
    "jp-MarkdownHeadingCollapsed": true,
    "tags": []
   },
   "source": [
    "## Select records from table using Option 2"
   ]
  },
  {
   "cell_type": "markdown",
   "id": "d5fee09d-37cb-4d55-b998-766d2dcf71d0",
   "metadata": {},
   "source": [
    "When we want to interact with a database using Python, it is common for us to use a connection object (```conn = create_conn()```) to create the connection to the database, and a cursor object (```cursor = conn.cursor()```) to interact with the database once connected. When we have finished using these connections we should close the connections to free up the system resources used by them. ```cursor.close()``` and ```conn.close()``` ."
   ]
  },
  {
   "cell_type": "code",
   "execution_count": null,
   "id": "aa0ae3a5-c133-4cd1-9996-f2cb38163590",
   "metadata": {},
   "outputs": [],
   "source": []
  },
  {
   "cell_type": "markdown",
   "id": "bd11e4da-2df0-48fb-abbf-4af534f124b1",
   "metadata": {
    "jp-MarkdownHeadingCollapsed": true,
    "tags": []
   },
   "source": [
    "## Adding a record to the database"
   ]
  },
  {
   "cell_type": "markdown",
   "id": "f48e7ce0-98ac-4e8f-8334-3952d55e8de6",
   "metadata": {},
   "source": [
    "In the code below the ```%s``` represents placeholder values. In this instance we are creating string type placeholder values. Generally we will use strings for placeholder as we don’t know what type of data we may be sent."
   ]
  },
  {
   "cell_type": "code",
   "execution_count": null,
   "id": "1d337b34-6674-4844-8542-acd7e7906d73",
   "metadata": {},
   "outputs": [],
   "source": []
  },
  {
   "cell_type": "markdown",
   "id": "0be778fd-9195-4f08-924f-c67bd4dff3d8",
   "metadata": {
    "jp-MarkdownHeadingCollapsed": true,
    "tags": []
   },
   "source": [
    "## Updating a record in the database"
   ]
  },
  {
   "cell_type": "code",
   "execution_count": null,
   "id": "8f4eafd7-da55-44a6-81ea-ef356d83c2c2",
   "metadata": {},
   "outputs": [],
   "source": []
  },
  {
   "cell_type": "markdown",
   "id": "5cc4df97-b927-4b62-88d6-a97803532149",
   "metadata": {
    "jp-MarkdownHeadingCollapsed": true,
    "tags": []
   },
   "source": [
    "## Deleting a record from the database"
   ]
  },
  {
   "cell_type": "code",
   "execution_count": null,
   "id": "7c3df57a-32de-45ba-8475-8dc71255d608",
   "metadata": {},
   "outputs": [],
   "source": []
  }
 ],
 "metadata": {
  "kernelspec": {
   "display_name": "Python 3 (ipykernel)",
   "language": "python",
   "name": "python3"
  },
  "language_info": {
   "codemirror_mode": {
    "name": "ipython",
    "version": 3
   },
   "file_extension": ".py",
   "mimetype": "text/x-python",
   "name": "python",
   "nbconvert_exporter": "python",
   "pygments_lexer": "ipython3",
   "version": "3.10.11"
  }
 },
 "nbformat": 4,
 "nbformat_minor": 5
}
