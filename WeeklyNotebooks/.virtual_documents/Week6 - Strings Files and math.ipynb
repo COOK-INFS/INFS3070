# Initial String values

string1 = "Bob"
string2 = "Mary"


# Show the memory location for each String
locationBefore_String1 = hex(id(string1))
locationBefore_String2 = hex(id(string2))


# Output the memory locations
print(f"Memory location of String1 before changing: {locationBefore_String1}")
print(f"Memory location of String2 before changing: {locationBefore_String2}")




string1 = "Bob"
string2 = "Mary"


# Show the memory location for each String
locationBefore_String1 = hex(id(string1))
locationBefore_String2 = hex(id(string2))


# Change the value of String2
string2 = "Bob"


# Memory locations after the change
locationAfter_String1 = hex(id(string1))
locationAfter_String2 = hex(id(string2))


# Output the memory locations
print(f"Memory location of String1 before changing: {locationBefore_String1}")
print(f"Memory location of String2 before changing: {locationBefore_String2}")
print(f"Memory location of String1 after changing: {locationAfter_String1}")
print(f"Memory location of String2 after changing: {locationAfter_String2}")


name = "Alice"
age = 30
greeting = "Hello, " + name + ". You are " + str(age) + " years old."
print(greeting)


name = "Alice"
age = 30
greeting = f"Hello, {name}. You are {age} years old."
print(greeting)


name = "Alice"
age = 30
greeting = "Hello, {}. You are {} years old.".format(name, age)
print(greeting)


escapeEx = "I am a "goof", no doubt about it."
print(escapeEx)


escapeEx = "I am a \"goof\", no doubt about it."
print(escapeEx)


newLine = "This is line 1. \nThis is line 2."
print(newLine)


carriageReturn = "This is line 1. \rThis is line 2."
print(carriageReturn)


searchParam = "World"

myString = "Hello, World"
index = myString.find(searchParam)
print(index)


searchParam = "World"

myString = "Hello, World"
result = searchParam in myString
print(result)


f = open("files/fileExample.txt", "w")
f.write("Hurray! My first line!")

# Remember to always close the file connection when writing or appending
f.close()


f = open("files/fileExample.txt", "r")
print(f.read())


text = "Here we go again!"
with open('files/fileExample.txt', 'w') as f:
    f.write(text)
with open('files/fileExample.txt', 'r') as f:
    print(f.read())


# Example using open

f = open('files/fileExample.txt', 'a')
f.write("\nI hope to add more content")
f.close()

# Read the file
f = open('files/fileExample.txt', 'r')
print(f.read())


# Example using with 

text = "Add even more text"

with open('files/fileExample.txt', 'a') as f:
    f.write(text)
with open('files/fileExample.txt', 'r') as f:
    print(f.read())


try:
    with open('files/fileExample2.txt', 'r') as f:
        print(f.read())
except FileNotFoundError:
    print("That file was not found!")


from configparser import ConfigParser

section='Settings'
configItem='theme'

# Initialize the parser
config = ConfigParser()

# Read the config file
config.read('files/myConfig.ini')

# Retrieve the setting
theme = config.get(section, configItem)

print(f"The setting is: {theme}")



