

















# Sample sales data
sales_data = [
    {'product': 'Widget A', 'quantity': 3, 'sale_amount': 45.0},
    {'product': 'Widget B', 'quantity': 2, 'sale_amount': 55.0},
    {'product': 'Widget A', 'quantity': 1, 'sale_amount': 15.0},
    # More transactions...
]




