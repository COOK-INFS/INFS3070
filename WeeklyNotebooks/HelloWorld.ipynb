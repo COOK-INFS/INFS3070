{
 "cells": [
  {
   "cell_type": "markdown",
   "id": "1696a42b-917a-4bf6-a7fb-077f57e076fe",
   "metadata": {},
   "source": [
    "# My first program"
   ]
  },
  {
   "cell_type": "code",
   "execution_count": 1,
   "id": "cccee626-71bf-4fe9-a881-0a4616e439b9",
   "metadata": {
    "tags": []
   },
   "outputs": [
    {
     "name": "stdout",
     "output_type": "stream",
     "text": [
      "Hello World\n"
     ]
    }
   ],
   "source": [
    "print(\"Hello World\")"
   ]
  },
  {
   "cell_type": "code",
   "execution_count": 3,
   "id": "e307e45a-18b5-460c-b6bd-8dc853beeb41",
   "metadata": {
    "tags": []
   },
   "outputs": [
    {
     "name": "stdout",
     "output_type": "stream",
     "text": [
      "Coding is cool!\n"
     ]
    }
   ],
   "source": [
    "print(\"Coding is cool!\")"
   ]
  },
  {
   "cell_type": "code",
   "execution_count": null,
   "id": "c4632417-b039-4f1e-998b-9f4d02914539",
   "metadata": {},
   "outputs": [],
   "source": []
  }
 ],
 "metadata": {
  "kernelspec": {
   "display_name": "Python 3 (ipykernel)",
   "language": "python",
   "name": "python3"
  },
  "language_info": {
   "codemirror_mode": {
    "name": "ipython",
    "version": 3
   },
   "file_extension": ".py",
   "mimetype": "text/x-python",
   "name": "python",
   "nbconvert_exporter": "python",
   "pygments_lexer": "ipython3",
   "version": "3.11.4"
  }
 },
 "nbformat": 4,
 "nbformat_minor": 5
}
