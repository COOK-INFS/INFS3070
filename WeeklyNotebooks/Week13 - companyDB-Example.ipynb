{
 "cells": [
  {
   "cell_type": "markdown",
   "id": "fd3715a5-456e-4ea4-9faf-9d7016acaf5b",
   "metadata": {
    "jp-MarkdownHeadingCollapsed": true,
    "tags": []
   },
   "source": [
    "# Connecting to a company database to do analysis with Pandas."
   ]
  },
  {
   "cell_type": "markdown",
   "id": "bf2a9440-2204-44b7-8273-5481baa2f974",
   "metadata": {},
   "source": [
    "\n",
    "Creating a connection to a database with Pandas is very similar to how we connect with \"vanilla\" python. The difference is when we want to interact with the data through Pandas for analysis purposes.\n",
    "\n",
    "To perform analysis we will not only use Pandas and the mySQL connector, but also a new library called 'sqlalchemy'.\n",
    "\n",
    "SQLAlchemy is a popular and powerful Object Relational Mapper (ORM) and SQL toolkit library for Python. It provides a set of high-level API and tools to communicate with relational databases.\n",
    "\n",
    "We will use the ```create_engine``` function within SQLAlchemy to create a new connection (\"engine\") to the database.\n",
    "\n",
    "If you are using PIP to install Python components:\n",
    "\n",
    "```pip3 install sqlalchemy```\n",
    "\n",
    "-- OR if that does not work --\n",
    "\n",
    "```python3 -m pip install --user sqlalchemy```\n",
    "\n",
    "If you are using Anaconda to install Python components:\n",
    "\n",
    "```conda install -c anaconda sqlalchemy```"
   ]
  },
  {
   "cell_type": "markdown",
   "id": "d0e35a71-ac7e-4dea-abac-290de50f6ea6",
   "metadata": {
    "jp-MarkdownHeadingCollapsed": true,
    "tags": []
   },
   "source": [
    "# Import appropriate libraries"
   ]
  },
  {
   "cell_type": "code",
   "execution_count": 1,
   "id": "d0313c16-de9f-4ec6-9cbd-e6c6587f5286",
   "metadata": {},
   "outputs": [],
   "source": []
  },
  {
   "cell_type": "markdown",
   "id": "24e5a22e-a049-4c6c-a737-8814347be5c4",
   "metadata": {
    "jp-MarkdownHeadingCollapsed": true,
    "tags": []
   },
   "source": [
    "# Create a db connection"
   ]
  },
  {
   "cell_type": "code",
   "execution_count": null,
   "id": "2314e53a-c01f-4bf6-bdbe-ede188c97aaf",
   "metadata": {},
   "outputs": [],
   "source": []
  },
  {
   "cell_type": "markdown",
   "id": "9276418d-8151-450c-9cf4-9c307cc97623",
   "metadata": {},
   "source": [
    "To call the database connection we will be using a special function called a lambda function. \n",
    "\n",
    "In Python, a lambda function is a small, anonymous function defined using the keyword `lambda`.  Lambda functions can have any number of arguments but only one expression, which is evaluated and returned. They are particularly useful when you need a simple function for a short period and do not want to formally define it using the `def` keyword. The general syntax of a lambda function is: `lambda *arguments*: *expression*`\n",
    "\n",
    "A lambda function plays a crucial role in integrating the database connection established by your custom function with SQLAlchemy's `create_engine` function. \n",
    "\n",
    "This is a simple function that takes no arguments and returns the `conn` object. Here’s what it specifically does in the context of creating the SQLAlchemy engine:\n",
    "\n",
    "1. **Connection Creator**: The `creator` parameter in the `create_engine` function expects a callable that returns a new connection object to the database. The lambda function satisfies this requirement by returning the `conn` object that was established and returned by your `create_conn()` function.\n",
    "2. **On-Demand Connection**: Every time SQLAlchemy needs to connect to the database, it calls this lambda function to get a fresh connection object. This approach ensures that the connection handling is dynamic and managed efficiently, without the need to manually open and close connections or hardcode credentials directly in the script.\n",
    "\n",
    "### Why Use a Lambda Function?\n",
    "\n",
    "Using a lambda function here is beneficial for several reasons:\n",
    "\n",
    "- **Simplicity**: It allows you to provide a concise and straightforward way to return an existing object without creating a separate, named function, keeping the code cleaner and more readable.\n",
    "- **Encapsulation**: It keeps the connection details encapsulated within the `companyConnect.py` module. The main script does not need to know how the connection is made; it just needs to know how to get the connection.\n",
    "- **Flexibility**: If in the future you decide to change how your connections are managed (e.g., adding pooling or logging), you only need to modify the `create_conn` function. The lambda function will continue to work without any changes needed in the main script.\n",
    "\n",
    "The lambda function acts as a bridge that allows SQLAlchemy to use the connection object provided by the database connection setup. This is a neat and effective way to integrate custom database connections with SQLAlchemy."
   ]
  },
  {
   "cell_type": "markdown",
   "id": "d1216df5-db95-4f7d-8345-cfbc7b41c5e2",
   "metadata": {
    "tags": []
   },
   "source": [
    "# Access data from the db"
   ]
  },
  {
   "cell_type": "code",
   "execution_count": null,
   "id": "5789101c-de7b-48a9-a6f9-606246a147f2",
   "metadata": {},
   "outputs": [],
   "source": []
  },
  {
   "cell_type": "code",
   "execution_count": null,
   "id": "059a9cb4-0daf-490d-8c36-b96c4289d676",
   "metadata": {},
   "outputs": [],
   "source": []
  }
 ],
 "metadata": {
  "kernelspec": {
   "display_name": "Python 3 (ipykernel)",
   "language": "python",
   "name": "python3"
  },
  "language_info": {
   "codemirror_mode": {
    "name": "ipython",
    "version": 3
   },
   "file_extension": ".py",
   "mimetype": "text/x-python",
   "name": "python",
   "nbconvert_exporter": "python",
   "pygments_lexer": "ipython3",
   "version": "3.10.11"
  }
 },
 "nbformat": 4,
 "nbformat_minor": 5
}
