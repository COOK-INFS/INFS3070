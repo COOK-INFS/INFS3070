{
 "cells": [
  {
   "cell_type": "markdown",
   "id": "dd6fad9c-01df-4119-97f2-01bd20aba327",
   "metadata": {
    "jp-MarkdownHeadingCollapsed": true,
    "tags": []
   },
   "source": [
    "# Lists"
   ]
  },
  {
   "cell_type": "markdown",
   "id": "ece5c063-5edf-4183-9edc-3b59be19f1f7",
   "metadata": {},
   "source": [
    "Used to store multiple items in a single \"sequence\". Very similar to a variable but with multiple values in one label."
   ]
  },
  {
   "cell_type": "code",
   "execution_count": 44,
   "id": "15c26692-cf04-4a03-8a07-76631cf27c29",
   "metadata": {
    "tags": []
   },
   "outputs": [
    {
     "name": "stdout",
     "output_type": "stream",
     "text": [
      "['Jeep', 'F350', 'Ram']\n"
     ]
    }
   ],
   "source": [
    "cars = [\"Jeep\", \"F350\", \"Ram\"]\n",
    "print(cars)"
   ]
  },
  {
   "cell_type": "markdown",
   "id": "b982612b-f6e4-4b61-b1ff-3f216e10895a",
   "metadata": {},
   "source": [
    "### Retrieve specific index location from list"
   ]
  },
  {
   "cell_type": "code",
   "execution_count": 45,
   "id": "dcb85e9d-a607-435f-a117-58e4dc731428",
   "metadata": {
    "tags": []
   },
   "outputs": [
    {
     "name": "stdout",
     "output_type": "stream",
     "text": [
      "F350\n"
     ]
    }
   ],
   "source": [
    "print(cars[1])"
   ]
  },
  {
   "cell_type": "markdown",
   "id": "f7c9e3f7-f3b7-4ae2-b77f-0b7c73489715",
   "metadata": {},
   "source": [
    "### Retrieve a range of indexes"
   ]
  },
  {
   "cell_type": "code",
   "execution_count": 46,
   "id": "f57b3646-3f13-451d-b9bc-2fc06e5434ed",
   "metadata": {
    "tags": []
   },
   "outputs": [
    {
     "name": "stdout",
     "output_type": "stream",
     "text": [
      "['Jeep', 'F350']\n"
     ]
    }
   ],
   "source": [
    "print(cars[0:2])"
   ]
  },
  {
   "cell_type": "markdown",
   "id": "51d2f4b0-7088-452e-a96c-f43c8773c114",
   "metadata": {},
   "source": [
    "## List operations"
   ]
  },
  {
   "cell_type": "markdown",
   "id": "df2fe2a4-72a1-4c5e-ae59-74cda93b162d",
   "metadata": {},
   "source": [
    "### Looking for X in a sequence\n"
   ]
  },
  {
   "cell_type": "code",
   "execution_count": 47,
   "id": "0f20d005-24ab-4683-ad01-90472659e80b",
   "metadata": {
    "tags": []
   },
   "outputs": [
    {
     "name": "stdout",
     "output_type": "stream",
     "text": [
      "I did not find jeep in the list of ['Jeep', 'F350', 'Ram']\n"
     ]
    }
   ],
   "source": [
    "cars = [\"Jeep\", \"F350\", \"Ram\"]\n",
    "searchValue = \"jeep\"\n",
    "\n",
    "# A method for searching for values in the List sequence\n",
    "if searchValue in cars:\n",
    "    print(f\"{searchValue} is in the list {cars}\")\n",
    "else:\n",
    "    print(f\"I did not find {searchValue} in the list of {cars}\")"
   ]
  },
  {
   "cell_type": "markdown",
   "id": "33f084fb-2d39-4ce6-9e6c-4be234f705a1",
   "metadata": {},
   "source": [
    "### Search a List sequence and return the index location"
   ]
  },
  {
   "cell_type": "code",
   "execution_count": 48,
   "id": "41991177-3097-4711-bef8-8f5f0e67c15b",
   "metadata": {
    "tags": []
   },
   "outputs": [
    {
     "name": "stdin",
     "output_type": "stream",
     "text": [
      "What car are you looking for?  f350\n"
     ]
    },
    {
     "name": "stdout",
     "output_type": "stream",
     "text": [
      "I did not find f350 in the list ['Jeep', 'F350', 'Ram']\n"
     ]
    }
   ],
   "source": [
    "cars = [\"Jeep\", \"F350\", \"Ram\"]\n",
    "searchValue = input(\"What car are you looking for? \")\n",
    "\n",
    "if searchValue in cars:\n",
    "    index_location = cars.index(searchValue)\n",
    "    print(f\"{searchValue} is in the list {cars} at index {index_location}\")\n",
    "else:\n",
    "    print(f\"I did not find {searchValue} in the list {cars}\")"
   ]
  },
  {
   "cell_type": "markdown",
   "id": "cc564e3a-442d-4658-95c6-933f7dabf35b",
   "metadata": {},
   "source": [
    "### Looking for a value and removing case sensitivity"
   ]
  },
  {
   "cell_type": "code",
   "execution_count": 49,
   "id": "b45ff118-1ed6-4edb-acca-b5e4a5130ff8",
   "metadata": {
    "tags": []
   },
   "outputs": [
    {
     "name": "stdin",
     "output_type": "stream",
     "text": [
      "What car are you looking for?  f350\n"
     ]
    },
    {
     "name": "stdout",
     "output_type": "stream",
     "text": [
      "f350 is in the list ['Jeep', 'F350', 'Ram'] at index 1\n"
     ]
    }
   ],
   "source": [
    "cars = [\"Jeep\", \"F350\", \"Ram\"]\n",
    "searchValue = input(\"What car are you looking for? \")\n",
    "\n",
    "# Convert the input and list items to lowercase for a comparison\n",
    "lowercase_cars = [car.lower() for car in cars]\n",
    "lowercase_searchValue = searchValue.lower()\n",
    "\n",
    "# Search for our values\n",
    "if lowercase_searchValue in lowercase_cars:\n",
    "    index_location = lowercase_cars.index(lowercase_searchValue)\n",
    "    print(f\"{searchValue} is in the list {cars} at index {index_location}\")\n",
    "else:\n",
    "    print(f\"I did not find {searchValue} in the list {cars}\")"
   ]
  },
  {
   "cell_type": "markdown",
   "id": "a0c68f93-cd9a-44d3-8917-850d66366a1c",
   "metadata": {},
   "source": [
    "### Performing Math agains a list"
   ]
  },
  {
   "cell_type": "code",
   "execution_count": 50,
   "id": "1e10dc5d-280f-4b19-827c-a7e06c534f22",
   "metadata": {
    "tags": []
   },
   "outputs": [
    {
     "name": "stdout",
     "output_type": "stream",
     "text": [
      "s*n = [1, 2, 3, 4, 5, 1, 2, 3, 4, 5, 1, 2, 3, 4, 5]\n",
      "n*s = [1, 2, 3, 4, 5, 1, 2, 3, 4, 5, 1, 2, 3, 4, 5]\n"
     ]
    }
   ],
   "source": [
    "s = [1, 2, 3, 4, 5]\n",
    "n = 3\n",
    "\n",
    "results1 = s * n\n",
    "results2 = n * s\n",
    "\n",
    "print(f\"s*n = {results1}\")\n",
    "print(f\"n*s = {results2}\")"
   ]
  },
  {
   "cell_type": "markdown",
   "id": "f8ce2974-f442-49c4-a857-710b01038587",
   "metadata": {},
   "source": [
    "### Return the length of a list"
   ]
  },
  {
   "cell_type": "code",
   "execution_count": 51,
   "id": "1e669a6e-b92d-4026-8e30-17c0172108d2",
   "metadata": {
    "tags": []
   },
   "outputs": [
    {
     "name": "stdout",
     "output_type": "stream",
     "text": [
      "5\n",
      "4\n"
     ]
    }
   ],
   "source": [
    "s = [1, 2, 3, 4, 5]\n",
    "cars = [\"Jeep\", \"F350\", \"Ram\", [1, 2, 3, 4, 5]]\n",
    "print(len(s))\n",
    "print(len(cars))"
   ]
  },
  {
   "cell_type": "markdown",
   "id": "f9ddb1a6-43d4-4628-92ca-9d4525acc140",
   "metadata": {},
   "source": [
    "### Appending to a List"
   ]
  },
  {
   "cell_type": "code",
   "execution_count": 52,
   "id": "c692a8ea-71eb-4d1d-b7af-d387a02be961",
   "metadata": {
    "tags": []
   },
   "outputs": [
    {
     "name": "stdout",
     "output_type": "stream",
     "text": [
      "['Jeep', 'F350', 'Ram', 'Motorcycle']\n"
     ]
    }
   ],
   "source": [
    "cars = [\"Jeep\", \"F350\", \"Ram\"]\n",
    "\n",
    "cars.append(\"Motorcycle\")\n",
    "print(cars)"
   ]
  },
  {
   "cell_type": "markdown",
   "id": "8885766f-4f7f-4da4-a98a-a672ae9a1def",
   "metadata": {},
   "source": [
    "### Extending a list with values from another list"
   ]
  },
  {
   "cell_type": "code",
   "execution_count": 53,
   "id": "cfc1f386-a13e-4580-817f-60588b298d14",
   "metadata": {
    "tags": []
   },
   "outputs": [
    {
     "name": "stdout",
     "output_type": "stream",
     "text": [
      "[1, 2, 3, 4, 5, 6]\n"
     ]
    }
   ],
   "source": [
    "list1 = [1, 2, 3]\n",
    "list2 = [4, 5, 6]\n",
    "\n",
    "list1.extend(list2)\n",
    "print(list1)"
   ]
  },
  {
   "cell_type": "markdown",
   "id": "61ddfc5a-9507-48a3-8323-411d6fdf09ee",
   "metadata": {},
   "source": [
    "### Insert values into the list at a specific index location"
   ]
  },
  {
   "cell_type": "code",
   "execution_count": 54,
   "id": "dfbd1137-1527-447e-ab3e-a8c2186caef8",
   "metadata": {
    "tags": []
   },
   "outputs": [
    {
     "name": "stdout",
     "output_type": "stream",
     "text": [
      "['Jeep', 'Motorcycle', 'F350', 'Ram']\n"
     ]
    }
   ],
   "source": [
    "cars = [\"Jeep\", \"F350\", \"Ram\"]\n",
    "cars.insert(1, \"Motorcycle\")\n",
    "print(cars)"
   ]
  },
  {
   "cell_type": "markdown",
   "id": "bd983603-84b9-4247-b475-33635d930dc9",
   "metadata": {},
   "source": [
    "### Sorting a list"
   ]
  },
  {
   "cell_type": "code",
   "execution_count": 55,
   "id": "75ca643b-95e5-4323-8152-fb5706907b77",
   "metadata": {
    "tags": []
   },
   "outputs": [
    {
     "name": "stdout",
     "output_type": "stream",
     "text": [
      "['F350', 'Jeep', 'Motorcycle', 'Ram']\n"
     ]
    }
   ],
   "source": [
    "cars = [\"Jeep\", \"F350\", \"Ram\"]\n",
    "cars.insert(1, \"Motorcycle\")\n",
    "cars.sort()\n",
    "print(cars)\n"
   ]
  },
  {
   "cell_type": "code",
   "execution_count": 56,
   "id": "c9eaef79-aa93-4ab6-8bc3-c8377f357d84",
   "metadata": {
    "tags": []
   },
   "outputs": [
    {
     "name": "stdout",
     "output_type": "stream",
     "text": [
      "['Ram', 'F350', 'Motorcycle', 'Jeep']\n"
     ]
    }
   ],
   "source": [
    "cars = [\"Jeep\", \"F350\", \"Ram\"]\n",
    "cars.insert(1, \"Motorcycle\")\n",
    "cars.reverse()\n",
    "print(cars)"
   ]
  },
  {
   "cell_type": "markdown",
   "id": "d6d30f39-6d93-4b01-907c-5e3cc49971bd",
   "metadata": {},
   "source": [
    "## 2D Lists"
   ]
  },
  {
   "cell_type": "code",
   "execution_count": 57,
   "id": "6dd15d44-9ba8-44fb-a83d-7563471ecba6",
   "metadata": {
    "tags": []
   },
   "outputs": [
    {
     "name": "stdout",
     "output_type": "stream",
     "text": [
      "[['Buell', 'GS650', 'K1200GT'], ['S10', 'Ram', 'F350'], ['Rubicon', 'CJ5']]\n"
     ]
    }
   ],
   "source": [
    "matrix = [\n",
    "    [\"Buell\", \"GS650\", \"K1200GT\"],\n",
    "    [\"S10\", \"Ram\", \"F350\"],\n",
    "    [\"Rubicon\", \"CJ5\"]\n",
    "]\n",
    "\n",
    "print(matrix)"
   ]
  },
  {
   "cell_type": "code",
   "execution_count": 58,
   "id": "05887681-bed0-4cca-9c1e-bf9cce7e7652",
   "metadata": {
    "tags": []
   },
   "outputs": [
    {
     "name": "stdout",
     "output_type": "stream",
     "text": [
      "[['Buell', 'GS650', 'K1200GT'], ['S10', 'Ram', 'F350'], ['Rubicon', 'CJ5']]\n"
     ]
    }
   ],
   "source": [
    "motorcycles = [\"Buell\", \"GS650\", \"K1200GT\"]\n",
    "trucks = [\"S10\", \"Ram\", \"F350\"]\n",
    "jeeps = [\"Rubicon\", \"CJ5\"]\n",
    "\n",
    "vehicles = [motorcycles, trucks, jeeps]\n",
    "print(vehicles)"
   ]
  },
  {
   "cell_type": "markdown",
   "id": "39f55e55-b99b-4306-bcfe-f29b86dbb6b3",
   "metadata": {},
   "source": [
    "### Accessing specific 2d list elements"
   ]
  },
  {
   "cell_type": "code",
   "execution_count": 59,
   "id": "ebb135f7-197c-4869-9642-c3968f62800b",
   "metadata": {
    "tags": []
   },
   "outputs": [
    {
     "name": "stdout",
     "output_type": "stream",
     "text": [
      "Buell\n"
     ]
    }
   ],
   "source": [
    "motorcycles = [\"Buell\", \"GS650\", \"K1200GT\"] # Vehicles list Index 0\n",
    "trucks = [\"S10\", \"Ram\", \"F350\"] # Vehicles list Index 1\n",
    "jeeps = [\"Rubicon\", \"CJ5\"] # Vehicles list Index 2\n",
    "\n",
    "vehicles = [motorcycles, trucks, jeeps]\n",
    "\n",
    "myTrucks = vehicles[1][1]\n",
    "\n",
    "print(vehicles[0][0])"
   ]
  },
  {
   "cell_type": "markdown",
   "id": "e41baa76-16ef-4346-ab67-392dea455302",
   "metadata": {},
   "source": [
    "## 3D Lists"
   ]
  },
  {
   "cell_type": "code",
   "execution_count": 60,
   "id": "647bba7e-eb2e-4bf8-a8a1-a74609e4da86",
   "metadata": {
    "tags": []
   },
   "outputs": [
    {
     "name": "stdout",
     "output_type": "stream",
     "text": [
      "[[[1, 2, 3], [4, 5, 6]], [[7, 8, 9], [10, 11, 12]]]\n",
      "6\n"
     ]
    }
   ],
   "source": [
    "cube = [\n",
    "    [\n",
    "        [1, 2, 3],\n",
    "        [4, 5, 6]\n",
    "    ],\n",
    "    [\n",
    "        [7, 8, 9],\n",
    "        [10, 11, 12]\n",
    "    ]\n",
    "]\n",
    "\n",
    "print(cube)\n",
    "\n",
    "element = cube[0][1][2]\n",
    "print(element)"
   ]
  },
  {
   "cell_type": "markdown",
   "id": "d56ac9fb-a79b-4875-b79d-dbc3bc395624",
   "metadata": {
    "jp-MarkdownHeadingCollapsed": true,
    "tags": []
   },
   "source": [
    "# Tuples"
   ]
  },
  {
   "cell_type": "code",
   "execution_count": null,
   "id": "9fad3528-fb6d-4735-a49c-0403170b7b67",
   "metadata": {},
   "outputs": [],
   "source": []
  },
  {
   "cell_type": "markdown",
   "id": "1c06618e-6630-4284-afde-7eb6beee1125",
   "metadata": {},
   "source": [
    "Tuples in Python are a fundamental data structure that serve as an ordered collection of elements. They are characterized by several key features:\n",
    "\n",
    "1. **Immutable**: Once a tuple is created, its elements cannot be changed, added, or removed. This immutability makes tuples a safe choice for representing fixed collections of items, such as days of the week or directions on a compass.\n",
    "2. **Ordered**: The elements in a tuple have a defined order, meaning that the items are indexed, starting from 0. You can access items in a tuple by referring to their index.\n",
    "3. **Allow Duplicates**: Tuples can contain multiple occurrences of the same value, allowing for the storage of duplicate elements.\n",
    "4. **Heterogeneous**: Tuples can contain elements of different data types, including int, float, string, and even other tuples, lists, or dictionaries. This flexibility makes them versatile for various applications.\n",
    "5. **Syntax**: Tuples are defined by enclosing the elements in parentheses `( )`, with items separated by commas. For example, `my_tuple = (1, \"Hello\", 3.14)` creates a tuple containing an integer, a string, and a float.\n",
    "6. **Use Cases**: Due to their immutability, tuples are often used for data that should not change over time, such as configuration data. They are also used when an immutable sequence of items is required, like keys in a dictionary.\n",
    "7. **Functions and Methods**: Python provides several built-in functions for tuples, such as `len()` for getting the length of a tuple, `max()` and `min()` for finding the largest and smallest items, and `tuple()` for creating a tuple from an iterable. However, because tuples are immutable, they have fewer methods compared to lists, such as no `append()` or `remove()` methods."
   ]
  },
  {
   "cell_type": "code",
   "execution_count": 61,
   "id": "4bb5000b-a815-4ffe-a9c3-8fed45172185",
   "metadata": {
    "tags": []
   },
   "outputs": [
    {
     "name": "stdout",
     "output_type": "stream",
     "text": [
      "1\n"
     ]
    }
   ],
   "source": [
    "myTuple = (1, \"Bob\", 3.14)\n",
    "print(myTuple[0])"
   ]
  },
  {
   "cell_type": "markdown",
   "id": "100b18e6-7ab1-4acf-8ae6-e594d1c47d7a",
   "metadata": {},
   "source": [
    "## Demonstrating immutability"
   ]
  },
  {
   "cell_type": "code",
   "execution_count": 62,
   "id": "06c85b99-8958-4b7a-8ddb-0042435a942a",
   "metadata": {
    "tags": []
   },
   "outputs": [
    {
     "name": "stdout",
     "output_type": "stream",
     "text": [
      "(1, 'Bob', 3.14)\n"
     ]
    },
    {
     "ename": "TypeError",
     "evalue": "'tuple' object does not support item assignment",
     "output_type": "error",
     "traceback": [
      "\u001b[1;31m---------------------------------------------------------------------------\u001b[0m",
      "\u001b[1;31mTypeError\u001b[0m                                 Traceback (most recent call last)",
      "Cell \u001b[1;32mIn[62], line 5\u001b[0m\n\u001b[0;32m      2\u001b[0m \u001b[38;5;28mprint\u001b[39m(myTuple)\n\u001b[0;32m      4\u001b[0m \u001b[38;5;66;03m# Try changing values in the Tuple\u001b[39;00m\n\u001b[1;32m----> 5\u001b[0m myTuple[\u001b[38;5;241m1\u001b[39m] \u001b[38;5;241m=\u001b[39m \u001b[38;5;124m\"\u001b[39m\u001b[38;5;124mFred\u001b[39m\u001b[38;5;124m\"\u001b[39m\n\u001b[0;32m      6\u001b[0m \u001b[38;5;28mprint\u001b[39m(MyTuple)\n",
      "\u001b[1;31mTypeError\u001b[0m: 'tuple' object does not support item assignment"
     ]
    }
   ],
   "source": [
    "myTuple = (1, \"Bob\", 3.14)\n",
    "print(myTuple)\n",
    "\n",
    "# Try changing values in the Tuple\n",
    "myTuple[1] = \"Fred\"\n",
    "print(MyTuple)"
   ]
  },
  {
   "cell_type": "markdown",
   "id": "e0c4e2e1-8038-4865-b6b6-ee8a2a34b9e5",
   "metadata": {},
   "source": [
    "### Convert Tuple to List and Back to change values"
   ]
  },
  {
   "cell_type": "code",
   "execution_count": null,
   "id": "ddf6c17b-7696-4164-a65f-acd00b685ec5",
   "metadata": {
    "tags": []
   },
   "outputs": [],
   "source": [
    "myTuple = (5, \"Bob\", 3.14)\n",
    "\n",
    "# Create a List with the Tuple values\n",
    "myList = list(myTuple)\n",
    "myList[1] = 2\n",
    "\n",
    "# Change the list back to a Tuple\n",
    "myTuple = tuple(myList)\n",
    "\n",
    "print(myTuple)"
   ]
  },
  {
   "cell_type": "markdown",
   "id": "ef2a4f5e-ddfa-4346-9b83-4a88139481f2",
   "metadata": {
    "jp-MarkdownHeadingCollapsed": true,
    "tags": []
   },
   "source": [
    "# Sets"
   ]
  },
  {
   "cell_type": "code",
   "execution_count": null,
   "id": "66365b4e-ee84-4a17-8c96-05c4c228a52b",
   "metadata": {},
   "outputs": [],
   "source": []
  },
  {
   "cell_type": "markdown",
   "id": "0325b2cc-dd1a-4ab9-b4fa-dbce1abc8493",
   "metadata": {},
   "source": [
    "Sets in Python are a collection data type that is mutable, unordered, and consists of unique elements. Here's a detailed breakdown of their characteristics and usage:\n",
    "\n",
    "1. **Unordered**: Sets do not record element position or order of insertion. As a result, sets do not support indexing, slicing, or other sequence-like behavior.\n",
    "2. **Unique Elements**: Each element in a set is distinct. If multiple identical elements are added to a set, they will be filtered out, ensuring that each element is represented once. This uniqueness property makes sets highly useful for eliminating duplicate values from a collection and for performing various set operations like unions, intersections, differences, and symmetric differences.\n",
    "3. **Mutable**: You can add and remove elements from a set after its creation. Python provides a rich set of methods to modify sets, including `add()`, `remove()`, `discard()`, `pop()`, and `clear()`.\n",
    "4. **Syntax**: Sets are defined by enclosing elements in curly braces `{}`, or by using the `set()` constructor to create a set from any iterable. For example, `{1, 2, 3}` or `set([1, 2, 3])`. An empty set must be created with `set()`, as `{}` creates an empty dictionary.\n",
    "5. **Set Operations**: Python sets support mathematical set operations like union (`|`), intersection (`&`), difference (``), and symmetric difference (`^`). These operations can be used to compare sets and perform operations like finding items present in both sets (intersection) or items unique to each set (symmetric difference).\n",
    "6. **Hashable Elements**: Set elements must be immutable; that is, they must be hashable. Numbers, strings, and tuples are examples of hashable objects that can be set elements. Lists and dictionaries, being mutable, cannot be included in a set.\n",
    "7. **Use Cases**: Sets are particularly useful when you need to maintain a collection of unique items, such as for membership testing, removing duplicates from a sequence, and performing mathematical set operations like unions and intersections."
   ]
  },
  {
   "cell_type": "code",
   "execution_count": null,
   "id": "9da88bd2-c57c-4f74-b963-b97bd24a62ba",
   "metadata": {
    "tags": []
   },
   "outputs": [],
   "source": [
    "mySet = {4, 5, 1, 2, 3}\n",
    "print(mySet)"
   ]
  },
  {
   "cell_type": "markdown",
   "id": "a591c278-847c-47aa-9d4e-996cd74a6fda",
   "metadata": {},
   "source": [
    "### Adding elements to a set"
   ]
  },
  {
   "cell_type": "code",
   "execution_count": null,
   "id": "625ad55b-ffef-46ed-a36f-2aa5f056ee76",
   "metadata": {
    "tags": []
   },
   "outputs": [],
   "source": [
    "mySet = {4, 5, 1, 2, 3}\n",
    "mySet.add(6)\n",
    "\n",
    "print(mySet)"
   ]
  },
  {
   "cell_type": "markdown",
   "id": "c6ae7286-efd7-4af6-91c2-f696d314d68c",
   "metadata": {},
   "source": [
    "### Removing elements"
   ]
  },
  {
   "cell_type": "code",
   "execution_count": null,
   "id": "767aee20-dfd1-4444-bb37-7f0a66307ac8",
   "metadata": {
    "tags": []
   },
   "outputs": [],
   "source": [
    "mySet = {4, 5, 1, 2, 3}\n",
    "mySet.remove(3)\n",
    "\n",
    "print(mySet)"
   ]
  },
  {
   "cell_type": "markdown",
   "id": "8b027f06-a7f2-4f09-816a-b14acc7bfdb7",
   "metadata": {},
   "source": [
    "### Joining sets"
   ]
  },
  {
   "cell_type": "code",
   "execution_count": null,
   "id": "be3fcc1d-bc60-458a-8dc6-4bc75f06d55c",
   "metadata": {
    "tags": []
   },
   "outputs": [],
   "source": [
    "set1 = {1, 2, 3}\n",
    "set2 = {4, 5, 6}\n",
    "\n",
    "union = set1.union(set2)\n",
    "\n",
    "print (union)"
   ]
  },
  {
   "cell_type": "markdown",
   "id": "40c62ade-3aaf-4b9f-800f-1fed8eadcf45",
   "metadata": {},
   "source": [
    "### Join sets with unique values"
   ]
  },
  {
   "cell_type": "code",
   "execution_count": null,
   "id": "1ffea0ab-5b73-4364-94a0-c34b9ed81eab",
   "metadata": {
    "tags": []
   },
   "outputs": [],
   "source": [
    "set1 = {1, 2, 3}\n",
    "set2 = {1, 2, 3, 4, 5, 6}\n",
    "\n",
    "union = set1.union(set2)\n",
    "\n",
    "print(union)\n"
   ]
  },
  {
   "cell_type": "markdown",
   "id": "231eed75-cd1d-4089-9f52-b16589d46bb9",
   "metadata": {},
   "source": [
    "### Compare the intersection of two sets"
   ]
  },
  {
   "cell_type": "code",
   "execution_count": null,
   "id": "579070c6-cb47-4d77-97bf-170b4a9b1e63",
   "metadata": {
    "tags": []
   },
   "outputs": [],
   "source": [
    "set1 = {1, 2, 3}\n",
    "set2 = {1, 2, 3, 4, 5, 6}\n",
    "\n",
    "union = set1.intersection(set2)\n",
    "\n",
    "print(union)"
   ]
  },
  {
   "cell_type": "markdown",
   "id": "53b0dd5e-43b0-4722-b5ba-8e6513e8237f",
   "metadata": {},
   "source": [
    "### Difference comparison of sets\n",
    "\n",
    "Will return the values from the first set NOT IN the second set"
   ]
  },
  {
   "cell_type": "code",
   "execution_count": 64,
   "id": "ebcadef7-2af4-4615-87a5-b715d4f9dce0",
   "metadata": {
    "tags": []
   },
   "outputs": [
    {
     "name": "stdout",
     "output_type": "stream",
     "text": [
      "{4, 5, 6}\n"
     ]
    }
   ],
   "source": [
    "set1 = {1, 2, 3}\n",
    "set2 = {1, 2, 3, 4, 5, 6}\n",
    "\n",
    "union = set2.difference(set1)\n",
    "\n",
    "print(union)"
   ]
  },
  {
   "cell_type": "markdown",
   "id": "ae520d7d-2df4-4320-9389-7e63f70ec1fe",
   "metadata": {},
   "source": [
    "### Symmetric difference of two sets\n",
    "Returns the values that occur in either set but not both."
   ]
  },
  {
   "cell_type": "code",
   "execution_count": 66,
   "id": "b3de3391-5efe-4f1d-b591-c8bb3a0a7f45",
   "metadata": {
    "tags": []
   },
   "outputs": [
    {
     "name": "stdout",
     "output_type": "stream",
     "text": [
      "{4, 5, 6, 7}\n"
     ]
    }
   ],
   "source": [
    "set1 = {1, 2, 3, 7}\n",
    "set2 = {1, 2, 3, 4, 5, 6}\n",
    "\n",
    "union = set1.symmetric_difference(set2)\n",
    "\n",
    "print(union)"
   ]
  },
  {
   "cell_type": "markdown",
   "id": "85182cfe-a7b0-4fee-b17f-ae39364aa6cc",
   "metadata": {
    "jp-MarkdownHeadingCollapsed": true,
    "tags": []
   },
   "source": [
    "# Dictionaries"
   ]
  },
  {
   "cell_type": "markdown",
   "id": "218d9aa1-227a-4627-8c9e-2d38e550d36d",
   "metadata": {},
   "source": [
    "Dictionaries in Python are mutable, unordered collections (since Python 3.7, they are considered ordered, as they preserve the insertion order of elements) that store mappings of unique keys to values. Here's a more detailed breakdown:\n",
    "\n",
    "1. **Key-Value Pair**: Each item in a dictionary is stored as a key-value pair. A key acts as a unique identifier for accessing its associated value.\n",
    "2. **Syntax**: A dictionary is defined within curly braces `{}` with keys and values separated by colons `:`. Items are separated by commas. For example: `my_dict = {'key1': 'value1', 'key2': 'value2'}`.\n",
    "3. **Mutable**: Dictionaries can be modified after they have been created. You can add, remove, or change the value of items within the dictionary.\n",
    "4. **Dynamic**: They can grow or shrink as needed, allowing for a very flexible way to store data.\n",
    "5. **Unordered (with a caveat)**: Until Python 3.7, dictionaries were unordered, meaning the order in which items were inserted could not be relied upon when accessing elements. From Python 3.7 onwards, dictionaries remember the order of items inserted, effectively making them ordered collections by insertion order.\n",
    "6. **Keys Must Be Unique**: Each key must be unique within a dictionary. Adding an item with a key that already exists will overwrite the existing value associated with that key.\n",
    "7. **Keys Must Be Immutable**: Only objects that are immutable can be used as keys. This includes types like strings, numbers, and tuples (tuples are immutable if all their elements are immutable as well).\n",
    "8. **Versatile Value Types**: Dictionary values can be of any type: numbers, strings, lists, tuples, dictionaries, or even custom objects, and can differ within the same dictionary.\n",
    "9. **Accessing Elements**: Values are accessed using square brackets `[]` with the key, e.g., `my_dict['key1']`. Trying to access a key that doesn't exist will result in a `KeyError`.\n",
    "10. **Methods and Functions**: Dictionaries come with a variety of methods and functions for common tasks: adding or removing items, merging dictionaries, iterating through keys, values, or key-value pairs, checking for the existence of keys, and more."
   ]
  },
  {
   "cell_type": "code",
   "execution_count": 67,
   "id": "51f438ab-9b4d-473f-a364-a4346633bbec",
   "metadata": {
    "tags": []
   },
   "outputs": [
    {
     "name": "stdout",
     "output_type": "stream",
     "text": [
      "{'brand': 'Jeep', 'model': 'Rubicon', 'year': 1976}\n"
     ]
    }
   ],
   "source": [
    "jeep = {\n",
    "    \"brand\": \"Jeep\",\n",
    "    \"model\": \"Rubicon\",\n",
    "    \"year\": 2014,\n",
    "    \"year\": 1976 # This line would overwrite the previous year\n",
    "}\n",
    "\n",
    "print(jeep)"
   ]
  },
  {
   "cell_type": "markdown",
   "id": "56ab6941-d744-4f37-ace2-98c3517f7a8e",
   "metadata": {},
   "source": [
    "### Common dictionary use is config files"
   ]
  },
  {
   "cell_type": "code",
   "execution_count": 69,
   "id": "39f3d0db-51b8-4e00-99ce-b9164f13af86",
   "metadata": {
    "tags": []
   },
   "outputs": [
    {
     "name": "stdout",
     "output_type": "stream",
     "text": [
      "Screen resolution: (1920, 1080)\n",
      "Color: dark\n"
     ]
    }
   ],
   "source": [
    "config = {\n",
    "    'screen_resolution': (1920, 1080),\n",
    "    'color_scheme': \"dark\",\n",
    "    'file_paths':{\n",
    "        'data_file': '/path/to/data.txt',\n",
    "        'log_file': '/path/to/log.txt'\n",
    "    }\n",
    "}\n",
    "\n",
    "# Accessing dictionary elements\n",
    "print(\"Screen resolution:\", config['screen_resolution'])\n",
    "print(\"Color:\", config['color_scheme'])"
   ]
  },
  {
   "cell_type": "markdown",
   "id": "a02faba7-abbf-4776-83ba-5b31a9e4079d",
   "metadata": {},
   "source": [
    "### Adding items to a dictionary"
   ]
  },
  {
   "cell_type": "code",
   "execution_count": 71,
   "id": "4c3ed9a5-e2bf-463d-b5ea-3d18c80606d9",
   "metadata": {
    "tags": []
   },
   "outputs": [
    {
     "name": "stdout",
     "output_type": "stream",
     "text": [
      "Font size: 16\n",
      "Color: light\n"
     ]
    }
   ],
   "source": [
    "config = {\n",
    "    'screen_resolution': (1920, 1080),\n",
    "    'color_scheme': \"dark\",\n",
    "    'file_paths':{\n",
    "        'data_file': '/path/to/data.txt',\n",
    "        'log_file': '/path/to/log.txt'\n",
    "    }\n",
    "}\n",
    "\n",
    "# Update configuration values\n",
    "config['color_scheme'] = 'light'\n",
    "\n",
    "# Adding items to the dictionary\n",
    "config['font_size'] = 16\n",
    "\n",
    "print(\"Font size:\", config['font_size'])\n",
    "print(\"Color:\", config['color_scheme'])"
   ]
  },
  {
   "cell_type": "markdown",
   "id": "f579ed87-d3e5-48e4-81c3-a463e78755c5",
   "metadata": {},
   "source": [
    "### Removing dictionary items"
   ]
  },
  {
   "cell_type": "code",
   "execution_count": 72,
   "id": "e5c703cf-1721-4a1c-9b5e-8d302a8264d4",
   "metadata": {
    "tags": []
   },
   "outputs": [
    {
     "name": "stdout",
     "output_type": "stream",
     "text": [
      "{'screen_resolution': (1920, 1080), 'color_scheme': 'light', 'file_paths': {'log_file': '/path/to/log.txt'}, 'font_size': 16}\n"
     ]
    }
   ],
   "source": [
    "config = {\n",
    "    'screen_resolution': (1920, 1080),\n",
    "    'color_scheme': \"dark\",\n",
    "    'file_paths':{\n",
    "        'data_file': '/path/to/data.txt',\n",
    "        'log_file': '/path/to/log.txt'\n",
    "    }\n",
    "}\n",
    "\n",
    "# Update configuration values\n",
    "config['color_scheme'] = 'light'\n",
    "\n",
    "# Adding items to the dictionary\n",
    "config['font_size'] = 16\n",
    "\n",
    "# Remove items from the dictionary\n",
    "del config['file_paths']['data_file']\n",
    "\n",
    "print(config)"
   ]
  },
  {
   "cell_type": "markdown",
   "id": "4f6dc91f-4ad8-4ceb-a38f-4ec3274c76c4",
   "metadata": {
    "jp-MarkdownHeadingCollapsed": true,
    "tags": []
   },
   "source": [
    "# Zip function"
   ]
  },
  {
   "cell_type": "markdown",
   "id": "81cd25f3-627a-4f20-86f1-ba372c929c69",
   "metadata": {},
   "source": [
    "The `zip()` function in Python is a built-in function that aggregates elements from two or more iterables (like lists, tuples, or dictionaries) and returns an iterator of tuples, where each tuple contains the elements from the iterables that are in the same position. This function is commonly used for parallel iteration over multiple lists or iterables.\n",
    "\n",
    "Basics of how it works:\n",
    "\n",
    "- **Syntax**: `zip(*iterables)`\n",
    "    - `iterables`: Any number of iterables (e.g., lists, tuples, etc.). The asterisk (``) indicates that the function can take any number of arguments.\n",
    "- **Return Value**: An iterator of tuples, where the i-th tuple contains the i-th element from each of the argument sequences or iterables. The iterator stops when the shortest input iterable is exhausted.\n",
    "- **Usage**: The `zip()` function is used when you need to loop over multiple iterables simultaneously. For example, if you have two lists—one containing names and the other containing ages—and you want to pair each name with its corresponding age, `zip()` makes this task straightforward."
   ]
  },
  {
   "cell_type": "code",
   "execution_count": 73,
   "id": "0da752a1-bdb7-4d47-abaa-1b414db84955",
   "metadata": {
    "tags": []
   },
   "outputs": [
    {
     "name": "stdout",
     "output_type": "stream",
     "text": [
      "{'name': 'John Doe', 'age': 30, 'city': 'New York'}\n"
     ]
    }
   ],
   "source": [
    "keys = ['name', 'age', 'city']\n",
    "values = ['John Doe', 30, 'New York']\n",
    "\n",
    "person = dict(zip(keys, values)) # dict is a reserved Python function\n",
    "\n",
    "print(person)"
   ]
  },
  {
   "cell_type": "code",
   "execution_count": 74,
   "id": "e731f6e0-bbc2-4256-af99-615e1ec96bfb",
   "metadata": {
    "tags": []
   },
   "outputs": [
    {
     "name": "stdout",
     "output_type": "stream",
     "text": [
      "Alice is 25 years old\n",
      "Bob is 30 years old\n",
      "Charlie is 35 years old\n"
     ]
    }
   ],
   "source": [
    "names = ['Alice', 'Bob', 'Charlie']\n",
    "ages = [25, 30, 35]\n",
    "\n",
    "for name, age in zip(names, ages):\n",
    "    print(f\"{name} is {age} years old\")"
   ]
  },
  {
   "cell_type": "markdown",
   "id": "fe9e1fe6-a911-4eda-b326-0935dc23898d",
   "metadata": {
    "tags": []
   },
   "source": [
    "# Comprehensions"
   ]
  },
  {
   "cell_type": "markdown",
   "id": "dd0c9143-9072-406f-b8a6-4593205e675a",
   "metadata": {},
   "source": [
    "Python comprehensions provide a concise way to create lists, dictionaries, sets, and generators. They offer a more syntactically compact and often more readable way to create these data structures compared to traditional loops and function calls. "
   ]
  },
  {
   "cell_type": "code",
   "execution_count": 75,
   "id": "8d957380-0a68-4652-96ae-f12826b6b966",
   "metadata": {
    "tags": []
   },
   "outputs": [
    {
     "name": "stdout",
     "output_type": "stream",
     "text": [
      "Jeep\n",
      "F350\n",
      "Ram\n"
     ]
    }
   ],
   "source": [
    "cars = ['Jeep', 'F350', 'Ram']\n",
    "\n",
    "for vehicle in cars:\n",
    "    print(vehicle)"
   ]
  },
  {
   "cell_type": "markdown",
   "id": "a452c0f7-5e06-41ae-a368-721875f44064",
   "metadata": {},
   "source": [
    "### Same process using comprehension"
   ]
  },
  {
   "cell_type": "code",
   "execution_count": 76,
   "id": "b6a0c9dc-1a61-4559-bf56-6711ecfe4dde",
   "metadata": {
    "tags": []
   },
   "outputs": [
    {
     "name": "stdout",
     "output_type": "stream",
     "text": [
      "[['Buell', 'GS650', 'K1200GT'], ['S10', 'Ram', 'F350'], ['Rubicon', 'CJ5']]\n",
      "[['Buell', 'GS650', 'K1200GT'], ['S10', 'Ram', 'F350'], ['Rubicon', 'CJ5']]\n",
      "[['Buell', 'GS650', 'K1200GT'], ['S10', 'Ram', 'F350'], ['Rubicon', 'CJ5']]\n"
     ]
    },
    {
     "data": {
      "text/plain": [
       "[None, None, None]"
      ]
     },
     "execution_count": 76,
     "metadata": {},
     "output_type": "execute_result"
    }
   ],
   "source": [
    "cars = ['Jeep', 'F350', 'Ram']\n",
    "\n",
    "[print(vehicles) for vehicle in cars]"
   ]
  },
  {
   "cell_type": "code",
   "execution_count": 77,
   "id": "2377d0c4-e1ef-4680-a566-f2d58947dd60",
   "metadata": {
    "tags": []
   },
   "outputs": [
    {
     "name": "stdout",
     "output_type": "stream",
     "text": [
      "The squared numbers are: [1, 4, 9, 16, 25]\n"
     ]
    }
   ],
   "source": [
    "myNumbers = [1, 2, 3, 4, 5]\n",
    "\n",
    "squaredNums = [squared ** 2 for squared in myNumbers]\n",
    "print(f\"The squared numbers are: {squaredNums}\")"
   ]
  },
  {
   "cell_type": "markdown",
   "id": "0c0a4f11-0781-4da3-89d1-3136ec672f03",
   "metadata": {
    "tags": []
   },
   "source": [
    "### Real World example of comprehension"
   ]
  },
  {
   "cell_type": "markdown",
   "id": "3deb9a4d-d50e-4d82-9961-b05716c813fc",
   "metadata": {},
   "source": [
    "Suppose you have a dataset of sales transactions, where each transaction is represented as a dictionary containing the product name, quantity sold, and sale amount. You're interested in analyzing this data to find the total sales amount per product."
   ]
  },
  {
   "cell_type": "code",
   "execution_count": 78,
   "id": "ba795893-3cd4-47d8-b6dd-a2fdc431e01e",
   "metadata": {},
   "outputs": [
    {
     "name": "stdout",
     "output_type": "stream",
     "text": [
      "{'Widget B': 55.0, 'Widget A': 60.0}\n"
     ]
    }
   ],
   "source": [
    "# Sample sales data\n",
    "sales_data = [\n",
    "    {'product': 'Widget A', 'quantity': 3, 'sale_amount': 45.0},\n",
    "    {'product': 'Widget B', 'quantity': 2, 'sale_amount': 55.0},\n",
    "    {'product': 'Widget A', 'quantity': 1, 'sale_amount': 15.0},\n",
    "    # More transactions...\n",
    "]\n",
    "\n",
    "# Use dictionary comprehension to sum sale amounts by product\n",
    "total_sales = {product: sum(item['sale_amount'] for item in sales_data if item['product'] == product) for product in set(item['product'] for item in sales_data)}\n",
    "\n",
    "print(total_sales)"
   ]
  },
  {
   "cell_type": "code",
   "execution_count": null,
   "id": "b10a9332-f446-4be1-9467-786080c11e41",
   "metadata": {},
   "outputs": [],
   "source": []
  }
 ],
 "metadata": {
  "kernelspec": {
   "display_name": "Python 3 (ipykernel)",
   "language": "python",
   "name": "python3"
  },
  "language_info": {
   "codemirror_mode": {
    "name": "ipython",
    "version": 3
   },
   "file_extension": ".py",
   "mimetype": "text/x-python",
   "name": "python",
   "nbconvert_exporter": "python",
   "pygments_lexer": "ipython3",
   "version": "3.10.11"
  }
 },
 "nbformat": 4,
 "nbformat_minor": 5
}
