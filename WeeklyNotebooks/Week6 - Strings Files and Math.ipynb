{
 "cells": [
  {
   "cell_type": "markdown",
   "id": "286a2b02-cdde-431c-a1ac-2af342fb2ba5",
   "metadata": {
    "jp-MarkdownHeadingCollapsed": true,
    "tags": []
   },
   "source": [
    "# String examples"
   ]
  },
  {
   "cell_type": "markdown",
   "id": "9d2483d1-2337-40b1-854c-461c2e6fa82c",
   "metadata": {
    "jp-MarkdownHeadingCollapsed": true,
    "tags": []
   },
   "source": [
    "## String immutability"
   ]
  },
  {
   "cell_type": "code",
   "execution_count": 12,
   "id": "d13ea2e8-f231-441d-93fd-3dc8f2b97de6",
   "metadata": {
    "tags": []
   },
   "outputs": [
    {
     "name": "stdout",
     "output_type": "stream",
     "text": [
      "Location of String1 before change: 0x22bb7732cb0\n",
      "Location of String2 before change: 0x22bb6a8c130\n",
      "Location of String1 after change: 0x22bb6a8c130\n",
      "Location of String2 after change: 0x22bb6a8c130\n"
     ]
    }
   ],
   "source": [
    "# Initial Strings\n",
    "string1 = \"Bob\"\n",
    "string2 = \"Mary\"\n",
    "\n",
    "# Show memory location of the string sequences\n",
    "location_before_string1 = hex(id(string1))\n",
    "location_before_string2 = hex(id(string2))\n",
    "\n",
    "# Change String1 to Mary\n",
    "string1 = \"Mary\"\n",
    "\n",
    "# Show memory location after change\n",
    "location_after_string1 = hex(id(string1))\n",
    "location_after_string2 = hex(id(string2))\n",
    "\n",
    "#Output the memory location\n",
    "print(f\"Location of String1 before change: {location_before_string1}\")\n",
    "print(f\"Location of String2 before change: {location_before_string2}\")\n",
    "print(f\"Location of String1 after change: {location_after_string1}\")\n",
    "print(f\"Location of String2 after change: {location_after_string2}\")"
   ]
  },
  {
   "cell_type": "markdown",
   "id": "fd252f22-0617-4fd4-a944-2be48bf6aae2",
   "metadata": {},
   "source": [
    "## Formatting Strings"
   ]
  },
  {
   "cell_type": "code",
   "execution_count": 13,
   "id": "79895239-17bc-4911-8cf4-74753844b79e",
   "metadata": {
    "tags": []
   },
   "outputs": [
    {
     "name": "stdout",
     "output_type": "stream",
     "text": [
      "Hello, Alice. You are 30 years old.\n"
     ]
    }
   ],
   "source": [
    "# Concatenating Strings\n",
    "\n",
    "name = \"Alice\"\n",
    "age = 30\n",
    "\n",
    "greeting = \"Hello, \" + name + \". You are \" + str(age) + \" years old.\"\n",
    "print(greeting)"
   ]
  },
  {
   "cell_type": "code",
   "execution_count": 14,
   "id": "7f9a51d0-1ae6-4fd7-be70-8b1a19e3b1e6",
   "metadata": {
    "tags": []
   },
   "outputs": [
    {
     "name": "stdout",
     "output_type": "stream",
     "text": [
      "Hello, Alice. You are 30 years old.\n"
     ]
    }
   ],
   "source": [
    "# Using the .format method to format a String\n",
    "\n",
    "name = \"Alice\"\n",
    "age = 30\n",
    "\n",
    "greeting = \"Hello, {}. You are {} years old.\".format(name, age)\n",
    "print(greeting)"
   ]
  },
  {
   "cell_type": "code",
   "execution_count": 15,
   "id": "b06ffb70-c86f-4a60-ab75-a4a5500ec615",
   "metadata": {
    "tags": []
   },
   "outputs": [
    {
     "name": "stdout",
     "output_type": "stream",
     "text": [
      "Hello, Alice. You are 30 years old.\n"
     ]
    }
   ],
   "source": [
    "# Using a \"f-string\" to format a String\n",
    "\n",
    "name = \"Alice\"\n",
    "age = 30\n",
    "\n",
    "greeting = f\"Hello, {name}. You are {age} years old.\"\n",
    "print(greeting)"
   ]
  },
  {
   "cell_type": "markdown",
   "id": "337106e0-72cb-4d80-94f8-9473af033636",
   "metadata": {},
   "source": [
    "## Escaping characters in Strings"
   ]
  },
  {
   "cell_type": "code",
   "execution_count": 27,
   "id": "4a6aefb7-7c99-43c3-b4c4-f1e94d1dd1aa",
   "metadata": {
    "tags": []
   },
   "outputs": [
    {
     "name": "stdout",
     "output_type": "stream",
     "text": [
      "I am a \"goof\", no doubt about it.\n"
     ]
    }
   ],
   "source": [
    "escapeEx = \"I am a \\\"goof\\\", no doubt about it.\"\n",
    "print(escapeEx)"
   ]
  },
  {
   "cell_type": "markdown",
   "id": "b0e7e0f1-d9ef-4ce5-b6a4-61c8dd69cc2e",
   "metadata": {},
   "source": [
    "## Newline example"
   ]
  },
  {
   "cell_type": "code",
   "execution_count": 19,
   "id": "cd9015a7-6b32-4efd-8e71-ca954feb34ad",
   "metadata": {
    "tags": []
   },
   "outputs": [
    {
     "name": "stdout",
     "output_type": "stream",
     "text": [
      "This is line 1. \n",
      "This is line 2.\n"
     ]
    }
   ],
   "source": [
    "escapeEx = \"This is line 1. \\nThis is line 2.\"\n",
    "print(escapeEx)"
   ]
  },
  {
   "cell_type": "markdown",
   "id": "0e85cceb-4ad1-42f6-8bce-71cb223fa1a8",
   "metadata": {},
   "source": [
    "## Carriage return example"
   ]
  },
  {
   "cell_type": "code",
   "execution_count": 20,
   "id": "1ac1c0b8-2f88-4134-9850-a991a676d935",
   "metadata": {
    "tags": []
   },
   "outputs": [
    {
     "name": "stdout",
     "output_type": "stream",
     "text": [
      "This is line 2. \n"
     ]
    }
   ],
   "source": [
    "escapeEx = \"This is line 1. \\rThis is line 2.\"\n",
    "print(escapeEx)"
   ]
  },
  {
   "cell_type": "markdown",
   "id": "c76111ad-c3e1-4736-bf0f-4a10176385b0",
   "metadata": {},
   "source": [
    "## Searching in Strings"
   ]
  },
  {
   "cell_type": "code",
   "execution_count": 24,
   "id": "7a01ea47-948c-40d8-b401-59cafa40032a",
   "metadata": {
    "tags": []
   },
   "outputs": [
    {
     "name": "stdout",
     "output_type": "stream",
     "text": [
      "7\n"
     ]
    }
   ],
   "source": [
    "my_string = \"Hello, World\"\n",
    "index = my_string.find(\"World\")\n",
    "print(index)"
   ]
  },
  {
   "cell_type": "code",
   "execution_count": 26,
   "id": "ed8d0b1e-674a-493a-89c6-9b63d8341462",
   "metadata": {
    "tags": []
   },
   "outputs": [
    {
     "name": "stdout",
     "output_type": "stream",
     "text": [
      "True\n"
     ]
    }
   ],
   "source": [
    "my_string = \"Hello, World\"\n",
    "result = \"World\" in my_string\n",
    "print(result)"
   ]
  },
  {
   "cell_type": "markdown",
   "id": "eeb925e6-fe0d-4267-b6a2-95013cce156e",
   "metadata": {
    "jp-MarkdownHeadingCollapsed": true,
    "tags": []
   },
   "source": [
    "# File examples"
   ]
  },
  {
   "cell_type": "markdown",
   "id": "0a24aea4-0ebb-4605-9349-f8996e24ab58",
   "metadata": {},
   "source": [
    "## Writing to a file"
   ]
  },
  {
   "cell_type": "code",
   "execution_count": 30,
   "id": "45fc827a-2b83-4fa1-bc94-6677db4f0242",
   "metadata": {
    "tags": []
   },
   "outputs": [],
   "source": [
    "f = open(\"files/fileExample.txt\", \"w\")\n",
    "f.write(\"Hurray! My first line.\")\n",
    "f.close()"
   ]
  },
  {
   "cell_type": "markdown",
   "id": "3a24f5b1-5682-44f7-b48b-2269f2113e8c",
   "metadata": {},
   "source": [
    "## Reading a file"
   ]
  },
  {
   "cell_type": "code",
   "execution_count": 31,
   "id": "86e9cf49-8521-43a8-9c83-4dfe85fd669c",
   "metadata": {
    "tags": []
   },
   "outputs": [
    {
     "name": "stdout",
     "output_type": "stream",
     "text": [
      "Hurray! My first line.\n"
     ]
    }
   ],
   "source": [
    "f = open(\"files/fileExample.txt\", \"r\")\n",
    "print(f.read())"
   ]
  },
  {
   "cell_type": "markdown",
   "id": "7210fa87-8a43-4bcd-b5ad-6fafd7599894",
   "metadata": {},
   "source": [
    "## Using the with method on files"
   ]
  },
  {
   "cell_type": "code",
   "execution_count": 35,
   "id": "e2c729dd-2a03-4399-b266-38b6051cb133",
   "metadata": {
    "tags": []
   },
   "outputs": [
    {
     "name": "stdout",
     "output_type": "stream",
     "text": [
      "Here I go again.\n"
     ]
    }
   ],
   "source": [
    "text = \"Here I go again.\"\n",
    "\n",
    "with open('files/fileExample.txt', 'w') as f:\n",
    "    f.write(text)\n",
    "with open ('files/fileExample.txt', 'r') as f:\n",
    "    print(f.read())"
   ]
  },
  {
   "cell_type": "markdown",
   "id": "0f435c8a-2752-4a04-8554-8a23d64d58c2",
   "metadata": {},
   "source": [
    "## Appending data to a file"
   ]
  },
  {
   "cell_type": "code",
   "execution_count": 42,
   "id": "af61e381-da79-4a79-8f6b-c37b75993c31",
   "metadata": {
    "tags": []
   },
   "outputs": [
    {
     "name": "stdout",
     "output_type": "stream",
     "text": [
      "Here I go again.I hope to add more content\n",
      "I hope to add more content\n",
      "I hope to add more content\n",
      "I hope to add more content\n",
      "I hope to add more content\n",
      "I hope to add more content\n"
     ]
    }
   ],
   "source": [
    "textToInsert = 'I hope to add more content'\n",
    "\n",
    "f = open('files/fileExample.txt', 'a')\n",
    "f.write(f\"\\n{textToInsert}\")\n",
    "f.close()\n",
    "\n",
    "f = open('files/fileExample.txt', 'r')\n",
    "print(f.read())"
   ]
  },
  {
   "cell_type": "code",
   "execution_count": 43,
   "id": "8c53b196-8f4a-4576-987d-e9aedf5db3c4",
   "metadata": {
    "tags": []
   },
   "outputs": [
    {
     "name": "stdout",
     "output_type": "stream",
     "text": [
      "Here I go again.I hope to add more content\n",
      "I hope to add more content\n",
      "I hope to add more content\n",
      "I hope to add more content\n",
      "I hope to add more content\n",
      "I hope to add more contentI hope to add more content\n"
     ]
    }
   ],
   "source": [
    "# Using the with method\n",
    "\n",
    "textToInsert = 'I hope to add more content'\n",
    "with open('files/fileExample.txt', 'a') as f:\n",
    "    f.write(textToInsert)\n",
    "with open('files/fileExample.txt', 'r') as f:\n",
    "    print(f.read())"
   ]
  },
  {
   "cell_type": "markdown",
   "id": "354a2c70-4971-4c56-8d28-8db69cc027f0",
   "metadata": {
    "jp-MarkdownHeadingCollapsed": true,
    "tags": []
   },
   "source": [
    "# Error handling"
   ]
  },
  {
   "cell_type": "code",
   "execution_count": 45,
   "id": "d347dd0a-88f3-4b1f-b064-036ff78b0a17",
   "metadata": {
    "tags": []
   },
   "outputs": [
    {
     "ename": "FileNotFoundError",
     "evalue": "[Errno 2] No such file or directory: 'files/fileExample1.txt'",
     "output_type": "error",
     "traceback": [
      "\u001b[1;31m---------------------------------------------------------------------------\u001b[0m",
      "\u001b[1;31mFileNotFoundError\u001b[0m                         Traceback (most recent call last)",
      "Cell \u001b[1;32mIn[45], line 1\u001b[0m\n\u001b[1;32m----> 1\u001b[0m \u001b[38;5;28;01mwith\u001b[39;00m \u001b[38;5;28mopen\u001b[39m(\u001b[38;5;124m'\u001b[39m\u001b[38;5;124mfiles/fileExample1.txt\u001b[39m\u001b[38;5;124m'\u001b[39m, \u001b[38;5;124m'\u001b[39m\u001b[38;5;124mr\u001b[39m\u001b[38;5;124m'\u001b[39m) \u001b[38;5;28;01mas\u001b[39;00m f:\n\u001b[0;32m      2\u001b[0m     \u001b[38;5;28mprint\u001b[39m(f\u001b[38;5;241m.\u001b[39mread())\n",
      "File \u001b[1;32mC:\\ProgramData\\anaconda3\\Lib\\site-packages\\IPython\\core\\interactiveshell.py:284\u001b[0m, in \u001b[0;36m_modified_open\u001b[1;34m(file, *args, **kwargs)\u001b[0m\n\u001b[0;32m    277\u001b[0m \u001b[38;5;28;01mif\u001b[39;00m file \u001b[38;5;129;01min\u001b[39;00m {\u001b[38;5;241m0\u001b[39m, \u001b[38;5;241m1\u001b[39m, \u001b[38;5;241m2\u001b[39m}:\n\u001b[0;32m    278\u001b[0m     \u001b[38;5;28;01mraise\u001b[39;00m \u001b[38;5;167;01mValueError\u001b[39;00m(\n\u001b[0;32m    279\u001b[0m         \u001b[38;5;124mf\u001b[39m\u001b[38;5;124m\"\u001b[39m\u001b[38;5;124mIPython won\u001b[39m\u001b[38;5;124m'\u001b[39m\u001b[38;5;124mt let you open fd=\u001b[39m\u001b[38;5;132;01m{\u001b[39;00mfile\u001b[38;5;132;01m}\u001b[39;00m\u001b[38;5;124m by default \u001b[39m\u001b[38;5;124m\"\u001b[39m\n\u001b[0;32m    280\u001b[0m         \u001b[38;5;124m\"\u001b[39m\u001b[38;5;124mas it is likely to crash IPython. If you know what you are doing, \u001b[39m\u001b[38;5;124m\"\u001b[39m\n\u001b[0;32m    281\u001b[0m         \u001b[38;5;124m\"\u001b[39m\u001b[38;5;124myou can use builtins\u001b[39m\u001b[38;5;124m'\u001b[39m\u001b[38;5;124m open.\u001b[39m\u001b[38;5;124m\"\u001b[39m\n\u001b[0;32m    282\u001b[0m     )\n\u001b[1;32m--> 284\u001b[0m \u001b[38;5;28;01mreturn\u001b[39;00m io_open(file, \u001b[38;5;241m*\u001b[39margs, \u001b[38;5;241m*\u001b[39m\u001b[38;5;241m*\u001b[39mkwargs)\n",
      "\u001b[1;31mFileNotFoundError\u001b[0m: [Errno 2] No such file or directory: 'files/fileExample1.txt'"
     ]
    }
   ],
   "source": [
    "with open('files/fileExample1.txt', 'r') as f:\n",
    "    print(f.read())"
   ]
  },
  {
   "cell_type": "markdown",
   "id": "3428f810-3e03-4efe-bfa5-7063c901e133",
   "metadata": {},
   "source": [
    "## Use try/except to handle errors more elegantly."
   ]
  },
  {
   "cell_type": "code",
   "execution_count": 47,
   "id": "95b120f6-d801-46cb-899b-3dd69297f121",
   "metadata": {
    "tags": []
   },
   "outputs": [
    {
     "name": "stdout",
     "output_type": "stream",
     "text": [
      "That file was not found!\n"
     ]
    }
   ],
   "source": [
    "try:\n",
    "    with open('files/fileExample1.txt', 'r') as f:\n",
    "        print(f.read())\n",
    "except FileNotFoundError:\n",
    "    print(\"That file was not found!\")\n"
   ]
  },
  {
   "cell_type": "markdown",
   "id": "5150140c-8974-4535-adbe-cf98dccb5745",
   "metadata": {
    "jp-MarkdownHeadingCollapsed": true,
    "tags": []
   },
   "source": [
    "# Config file example"
   ]
  },
  {
   "cell_type": "code",
   "execution_count": 52,
   "id": "538b60c4-3e0b-42f4-828d-ab510fceb615",
   "metadata": {
    "tags": []
   },
   "outputs": [
    {
     "name": "stdout",
     "output_type": "stream",
     "text": [
      "The setting value is: admin\n"
     ]
    }
   ],
   "source": [
    "# Search parameter\n",
    "searchItem = 'username'\n",
    "\n",
    "# Open the config file and read it\n",
    "with open('files/myConfig.ini', 'r') as f:\n",
    "    lines=f.readlines() # Reads all the lines in the file\n",
    "    \n",
    "# Search for the 'theme' setting\n",
    "for line in lines:\n",
    "    if searchItem in line:\n",
    "        _, searchItem = line.split(\"=\", 1) # Ignore the values left of the \"=\" and assign to \"_\".\n",
    "        searchItem = searchItem.strip()\n",
    "        break\n",
    "\n",
    "# Display the results\n",
    "if searchItem:\n",
    "    print(f\"The setting value is: {searchItem}\")\n",
    "else:\n",
    "    print(\"The setting was not found.\")\n",
    "        "
   ]
  },
  {
   "cell_type": "code",
   "execution_count": 56,
   "id": "22e2eb68-193d-448b-a71d-2f8e3c03f292",
   "metadata": {
    "tags": []
   },
   "outputs": [
    {
     "name": "stdout",
     "output_type": "stream",
     "text": [
      "The setting is: admin\n"
     ]
    }
   ],
   "source": [
    "# Using an imported module designed for config files\n",
    "from configparser import ConfigParser\n",
    "\n",
    "section='Server'\n",
    "configItem='username'\n",
    "\n",
    "# Initialize the parser\n",
    "config = ConfigParser()\n",
    "\n",
    "# Read the config file\n",
    "config.read('files/myConfig.ini')\n",
    "\n",
    "# Retrieve the setting value\n",
    "theme = config.get(section, configItem)\n",
    "\n",
    "print(f\"The setting is: {theme}\")\n",
    "\n",
    "\n"
   ]
  },
  {
   "cell_type": "markdown",
   "id": "b9f5e15f-126a-4804-8821-5ecd85416b40",
   "metadata": {},
   "source": [
    "# Math module"
   ]
  },
  {
   "cell_type": "code",
   "execution_count": 57,
   "id": "84dac81e-5eb2-4593-ab32-b6545970cb84",
   "metadata": {
    "tags": []
   },
   "outputs": [
    {
     "name": "stdout",
     "output_type": "stream",
     "text": [
      "5\n",
      "25\n"
     ]
    }
   ],
   "source": [
    "x = min(5, 10, 25)\n",
    "y = max(5, 10, 25)\n",
    "\n",
    "print(x)\n",
    "print(y)"
   ]
  },
  {
   "cell_type": "code",
   "execution_count": 58,
   "id": "45162664-4cd8-4a77-9e75-6d6c848a9efe",
   "metadata": {
    "tags": []
   },
   "outputs": [
    {
     "name": "stdout",
     "output_type": "stream",
     "text": [
      "64\n"
     ]
    }
   ],
   "source": [
    "x = pow(4, 3)\n",
    "print(x)"
   ]
  },
  {
   "cell_type": "markdown",
   "id": "1c0f9f19-9ae5-41e5-8460-a4afb293c130",
   "metadata": {},
   "source": [
    "## Math module import"
   ]
  },
  {
   "cell_type": "code",
   "execution_count": 59,
   "id": "0b9844f9-f80b-490e-924b-6acb18822506",
   "metadata": {
    "tags": []
   },
   "outputs": [
    {
     "name": "stdout",
     "output_type": "stream",
     "text": [
      "10\n"
     ]
    }
   ],
   "source": [
    "import math\n",
    "\n",
    "# Return the absolute value of a number\n",
    "print(abs(-10))"
   ]
  },
  {
   "cell_type": "code",
   "execution_count": 60,
   "id": "fc84ed3a-f445-490b-a579-a6f514defc71",
   "metadata": {
    "tags": []
   },
   "outputs": [
    {
     "name": "stdout",
     "output_type": "stream",
     "text": [
      "3\n"
     ]
    }
   ],
   "source": [
    "# The floor function returns the largest integer less than or equal to a number\n",
    "print(math.floor(3.8))"
   ]
  },
  {
   "cell_type": "code",
   "execution_count": 61,
   "id": "0f9c81bb-8e5e-439f-9c89-a0a5a8767067",
   "metadata": {
    "tags": []
   },
   "outputs": [
    {
     "name": "stdout",
     "output_type": "stream",
     "text": [
      "3\n"
     ]
    }
   ],
   "source": [
    "# Using the rounding function\n",
    "print(round(3.2))"
   ]
  },
  {
   "cell_type": "code",
   "execution_count": 62,
   "id": "d6b49b50-9931-430c-8f2a-e2c7b775b4b7",
   "metadata": {
    "tags": []
   },
   "outputs": [
    {
     "name": "stdout",
     "output_type": "stream",
     "text": [
      "5.0\n"
     ]
    }
   ],
   "source": [
    "# Square root\n",
    "print(math.sqrt(25))"
   ]
  },
  {
   "cell_type": "code",
   "execution_count": null,
   "id": "b2d4dfe0-1d02-4d47-bd06-e7448992cc36",
   "metadata": {},
   "outputs": [],
   "source": []
  }
 ],
 "metadata": {
  "kernelspec": {
   "display_name": "Python 3 (ipykernel)",
   "language": "python",
   "name": "python3"
  },
  "language_info": {
   "codemirror_mode": {
    "name": "ipython",
    "version": 3
   },
   "file_extension": ".py",
   "mimetype": "text/x-python",
   "name": "python",
   "nbconvert_exporter": "python",
   "pygments_lexer": "ipython3",
   "version": "3.11.4"
  }
 },
 "nbformat": 4,
 "nbformat_minor": 5
}
