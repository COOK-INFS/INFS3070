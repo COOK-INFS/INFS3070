{
 "cells": [
  {
   "cell_type": "markdown",
   "id": "7ef59f60-8347-4e5d-9f39-9a7d6296462c",
   "metadata": {},
   "source": [
    "# Example of user input"
   ]
  },
  {
   "cell_type": "code",
   "execution_count": null,
   "id": "1e188eaf-a6cb-457c-8c9a-97da85e3750b",
   "metadata": {
    "tags": []
   },
   "outputs": [],
   "source": [
    "userName = input (\"What is your name? \")\n",
    "userAge = int (input(\"What year were you born? \"))\n",
    "\n",
    "age = 2024 - userAge\n",
    "\n",
    "print(\"Hello \" + userName)\n",
    "print(\"You are \" +str(age)+ \" years old.\")"
   ]
  },
  {
   "cell_type": "markdown",
   "id": "f93b913f-a1e0-4333-849f-575c07e82d93",
   "metadata": {},
   "source": [
    "# IF statement example"
   ]
  },
  {
   "cell_type": "code",
   "execution_count": null,
   "id": "bd3984f1-9f9e-4276-ba4e-a10d19da8abc",
   "metadata": {
    "tags": []
   },
   "outputs": [],
   "source": [
    "userName = input (\"What is your name? \")\n",
    "userAge = int (input(\"What year were you born? \"))\n",
    "\n",
    "age = 2024 - userAge\n",
    "\n",
    "print(\"Hello \" + userName)\n",
    "print(\"You are \" +str(age)+ \" years old.\")\n",
    "\n",
    "# IF statement example\n",
    "if age >= 21:\n",
    "    print (\"Welcome to the bar, enjoy your cold snack!\")"
   ]
  },
  {
   "cell_type": "markdown",
   "id": "cf5f7fa0-524a-408e-b608-7f467681f582",
   "metadata": {},
   "source": [
    "# Two-way IF statements"
   ]
  },
  {
   "cell_type": "code",
   "execution_count": null,
   "id": "94a7d115-b083-4f2a-bfb1-718471d6f867",
   "metadata": {
    "tags": []
   },
   "outputs": [],
   "source": [
    "userName = input (\"What is your name? \")\n",
    "userAge = int (input(\"What year were you born? \"))\n",
    "\n",
    "age = 2024 - userAge\n",
    "\n",
    "print(\"Hello \" + userName)\n",
    "print(\"You are \" +str(age)+ \" years old.\")\n",
    "\n",
    "# IF statement example\n",
    "if age >= 21:\n",
    "    print (\"Welcome to the bar, enjoy your cold snack!\")\n",
    "else:\n",
    "    print (\"Sorry, you are not old enough for cold snacks.\")"
   ]
  },
  {
   "cell_type": "markdown",
   "id": "91be0844-d24e-4097-9907-c47e3e3c7dc3",
   "metadata": {},
   "source": [
    "# Ternary statements example"
   ]
  },
  {
   "cell_type": "code",
   "execution_count": null,
   "id": "9658a2de-3232-42af-8cfa-df291dd63864",
   "metadata": {
    "tags": []
   },
   "outputs": [],
   "source": [
    "userName = input (\"What is your name? \")\n",
    "userAge = int (input(\"What year were you born? \"))\n",
    "\n",
    "age = 2024 - userAge\n",
    "\n",
    "print(\"Hello \" + userName)\n",
    "print(\"You are \" +str(age)+ \" years old.\")\n",
    "\n",
    "# Ternary example of conditional statements\n",
    "canEnter = \"You can enter the bar\" if age >= 21 else \"You cannot enter\"\n",
    "print(canEnter)"
   ]
  },
  {
   "cell_type": "markdown",
   "id": "c2d77bee-468a-42c9-93e2-ec72a503dffc",
   "metadata": {},
   "source": [
    "# Nested IF statement examples"
   ]
  },
  {
   "cell_type": "code",
   "execution_count": null,
   "id": "12431601-6ace-4b3b-b4fa-902495f3a8c4",
   "metadata": {
    "tags": []
   },
   "outputs": [],
   "source": [
    "userName = input (\"What is your name? \")\n",
    "userAge = int (input(\"What year were you born? \"))\n",
    "\n",
    "age = 2024 - userAge\n",
    "\n",
    "print(\"Hello \" + userName)\n",
    "print(\"You are \" +str(age)+ \" years old.\")\n",
    "\n",
    "# Nested IF example\n",
    "if age >= 18:\n",
    "    if age <25:\n",
    "        print (\"You can enlist in the service.\")\n",
    "    else:\n",
    "        print (\"You are too old to enlist.\")\n",
    "else:\n",
    "    print (\"You are not eligible to enlist.\")"
   ]
  },
  {
   "cell_type": "markdown",
   "id": "826349e6-a126-4c03-811b-5322deddfa9d",
   "metadata": {},
   "source": [
    "# ELIF statement examples"
   ]
  },
  {
   "cell_type": "code",
   "execution_count": null,
   "id": "01289882-97eb-46db-9027-d536a739b55b",
   "metadata": {
    "tags": []
   },
   "outputs": [],
   "source": [
    "userName = input (\"What is your name? \")\n",
    "userAge = int (input(\"What year were you born? \"))\n",
    "\n",
    "age = 2024 - userAge\n",
    "\n",
    "print(\"Hello \" + userName)\n",
    "print(\"You are \" +str(age)+ \" years old.\")\n",
    "\n",
    "# ELIF statement example\n",
    "if age < 16:\n",
    "    print(\"You are too young to drive.\")\n",
    "    \n",
    "elif age >= 16 and age <18:\n",
    "    print (\"You are old enough learners permit.\")\n",
    "    \n",
    "elif age >25 and age <=50:\n",
    "    print(\"You may be eligible for insurance discounts\")\n",
    "    print (\"You are eligible for a drivers license.\")\n",
    "    \n",
    "else:\n",
    "    print (\"You are eligible for a drivers license.\")"
   ]
  },
  {
   "cell_type": "markdown",
   "id": "3e004d34-a624-4296-b29c-4a957697714a",
   "metadata": {},
   "source": [
    "# Case match statement examples\n"
   ]
  },
  {
   "cell_type": "code",
   "execution_count": 26,
   "id": "1efc0d1b-eaee-4470-adb3-641e727f953d",
   "metadata": {
    "tags": []
   },
   "outputs": [
    {
     "name": "stdin",
     "output_type": "stream",
     "text": [
      "What day number (0 to 6) would you like to show? 0\n"
     ]
    },
    {
     "name": "stdout",
     "output_type": "stream",
     "text": [
      "nap time\n",
      "Sunday\n"
     ]
    }
   ],
   "source": [
    "dayToView = int(input(\"What day number (0 to 6) would you like to show?\"))\n",
    "                \n",
    "day = dayToView\n",
    "day_of_week = \"\"\n",
    "\n",
    "if day == 0:\n",
    "    day_of_week = \"Sunday\"\n",
    "    print(\"nap time\")\n",
    "elif day == 1:\n",
    "    day_of_week = \"Monday\"\n",
    "elif day == 2:\n",
    "    day_of_week = \"Tuesday\"\n",
    "elif day == 3:\n",
    "    day_of_week = \"Wednesday\"\n",
    "elif day == 4:\n",
    "    day_of_week = \"Thursday\"\n",
    "elif day == 5:\n",
    "    day_of_week = \"Friday\"\n",
    "elif day == 6:\n",
    "    day_of_week = \"Saturday\"\n",
    "else:\n",
    "    day_of_week = \"Invalid day\"\n",
    "\n",
    "print(day_of_week)"
   ]
  },
  {
   "cell_type": "markdown",
   "id": "f10758d9-8180-49b6-8897-8e0c3dc7b98c",
   "metadata": {},
   "source": [
    "# ATM simulator\n",
    "\n",
    "This demonstrates everything we've learned thus far."
   ]
  },
  {
   "cell_type": "code",
   "execution_count": null,
   "id": "b231c53d-089e-4f2e-a4d4-2a1717eca485",
   "metadata": {
    "tags": []
   },
   "outputs": [
    {
     "name": "stdout",
     "output_type": "stream",
     "text": [
      "Welcome to the ATM\n",
      "1. Check Balance\n",
      "2. Withdraw\n",
      "3. Deposit\n",
      "4. Exit\n"
     ]
    },
    {
     "name": "stdin",
     "output_type": "stream",
     "text": [
      "Enter your choice: 5\n"
     ]
    },
    {
     "name": "stdout",
     "output_type": "stream",
     "text": [
      "Invalid choice. Please try again\n",
      "Welcome to the ATM\n",
      "1. Check Balance\n",
      "2. Withdraw\n",
      "3. Deposit\n",
      "4. Exit\n"
     ]
    }
   ],
   "source": [
    "# Initialize an account balance\n",
    "balance = 1000\n",
    "\n",
    "while True:\n",
    "    print(\"Welcome to the ATM\")\n",
    "    print(\"1. Check Balance\")\n",
    "    print(\"2. Withdraw\")\n",
    "    print(\"3. Deposit\")\n",
    "    print(\"4. Exit\")\n",
    "    choice = int(input(\"Enter your choice:\"))\n",
    "    \n",
    "    # Use conditionals for each choice\n",
    "    if choice ==1:\n",
    "        print(\"Your current balance is $\" + str(balance))\n",
    "    elif choice ==2:\n",
    "        amount = int(input(\"Enter the amount to withdraw:\"))\n",
    "        if amount > balance:\n",
    "            print(\"Insufficient funds\")\n",
    "        elif amount <= 0:\n",
    "            print(\"Invalid amount\")\n",
    "        else:\n",
    "            balance -= amount\n",
    "            print(\"$\" + str(amount) + \" withdrawn successfully.\")\n",
    "            print(\"Your remaining balance is $\" + str(balance))\n",
    "    elif choice ==3:\n",
    "        amount = int(input(\"Enter the amount do deposit:\"))\n",
    "        if amount <= 0:\n",
    "            print(\"Invalid amount\")\n",
    "        else:\n",
    "            balance += amount\n",
    "            print(\"$\" + str(amount) + \" deposited successfully.\")\n",
    "            print(\"Your remaining balance is $\" + str(balance))\n",
    "            \n",
    "    elif choice ==4:\n",
    "        print(\"Thank you for using the ATM simulator. Good bye!\")\n",
    "        break\n",
    "    else:\n",
    "        print(\"Invalid choice. Please try again\")"
   ]
  },
  {
   "cell_type": "code",
   "execution_count": null,
   "id": "4bdfd803-4c59-43a3-bf72-af3537d96611",
   "metadata": {},
   "outputs": [],
   "source": []
  }
 ],
 "metadata": {
  "kernelspec": {
   "display_name": "Python 3 (ipykernel)",
   "language": "python",
   "name": "python3"
  },
  "language_info": {
   "codemirror_mode": {
    "name": "ipython",
    "version": 3
   },
   "file_extension": ".py",
   "mimetype": "text/x-python",
   "name": "python",
   "nbconvert_exporter": "python",
   "pygments_lexer": "ipython3",
   "version": "3.11.4"
  }
 },
 "nbformat": 4,
 "nbformat_minor": 5
}
