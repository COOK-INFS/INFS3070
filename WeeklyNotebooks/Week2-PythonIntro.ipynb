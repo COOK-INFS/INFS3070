{
 "cells": [
  {
   "cell_type": "markdown",
   "id": "159baac3-7a4a-48a6-a26b-2af8a2527da7",
   "metadata": {},
   "source": [
    "# This is my heading\n",
    "## This is a heading 2\n",
    "\n",
    "_This is italics_\n",
    "\n",
    "**This is a bold statement**\n"
   ]
  },
  {
   "cell_type": "markdown",
   "id": "1482653b-9b93-4b26-912b-31ec50bb9975",
   "metadata": {
    "jp-MarkdownHeadingCollapsed": true,
    "tags": []
   },
   "source": [
    "# Variables examples"
   ]
  },
  {
   "cell_type": "code",
   "execution_count": 16,
   "id": "2149a83a-4c03-4822-9083-61cd28876d5e",
   "metadata": {
    "tags": []
   },
   "outputs": [
    {
     "name": "stdout",
     "output_type": "stream",
     "text": [
      "4\n"
     ]
    }
   ],
   "source": [
    "a = 2\n",
    "b = a\n",
    "\n",
    "c = a+b\n",
    "\n",
    "print(c)"
   ]
  },
  {
   "cell_type": "markdown",
   "id": "606e4fb9-ac0f-4fe3-9a58-f0dae5fe96f2",
   "metadata": {},
   "source": [
    "### Review the memory location"
   ]
  },
  {
   "cell_type": "code",
   "execution_count": 17,
   "id": "b97d7f34-87ca-400d-a7ab-8984443598e2",
   "metadata": {
    "tags": []
   },
   "outputs": [
    {
     "name": "stdout",
     "output_type": "stream",
     "text": [
      "0x7ffe55b09348\n",
      "0x7ffe55b09348\n",
      "0x7ffe55b09388\n"
     ]
    }
   ],
   "source": [
    "print (hex(id(a)))\n",
    "print (hex(id(b)))\n",
    "print (hex(id(c)))"
   ]
  },
  {
   "cell_type": "markdown",
   "id": "1798616d-1f0d-450a-a3ab-413d61755181",
   "metadata": {
    "jp-MarkdownHeadingCollapsed": true,
    "tags": []
   },
   "source": [
    "# Assignment operators examples"
   ]
  },
  {
   "cell_type": "code",
   "execution_count": 18,
   "id": "e801392f-8a50-462f-a9b3-5d49f6dab6ee",
   "metadata": {
    "tags": []
   },
   "outputs": [
    {
     "name": "stdout",
     "output_type": "stream",
     "text": [
      "Bob\n"
     ]
    }
   ],
   "source": [
    "name = 'Bob'\n",
    "print(name)"
   ]
  },
  {
   "cell_type": "code",
   "execution_count": 20,
   "id": "f1e66156-1d13-49b4-be0a-709976f7cc62",
   "metadata": {
    "tags": []
   },
   "outputs": [
    {
     "name": "stdout",
     "output_type": "stream",
     "text": [
      "8\n"
     ]
    }
   ],
   "source": [
    "x = 5\n",
    "x += 3\n",
    "print(x)"
   ]
  },
  {
   "cell_type": "code",
   "execution_count": 24,
   "id": "ee983720-3268-43e0-825b-b89420b04535",
   "metadata": {
    "tags": []
   },
   "outputs": [
    {
     "name": "stdout",
     "output_type": "stream",
     "text": [
      "8.0\n"
     ]
    }
   ],
   "source": [
    "x += 3\n",
    "print(x)"
   ]
  },
  {
   "cell_type": "code",
   "execution_count": 21,
   "id": "6e8b66e1-6ab9-4b0c-a4cb-797e33a09d40",
   "metadata": {
    "tags": []
   },
   "outputs": [
    {
     "name": "stdout",
     "output_type": "stream",
     "text": [
      "4\n"
     ]
    }
   ],
   "source": [
    "x = 5\n",
    "x -= 1\n",
    "print(x)"
   ]
  },
  {
   "cell_type": "code",
   "execution_count": 22,
   "id": "2285ebf6-5a84-4af6-82d8-95ce84eff6b7",
   "metadata": {
    "tags": []
   },
   "outputs": [
    {
     "name": "stdout",
     "output_type": "stream",
     "text": [
      "15\n"
     ]
    }
   ],
   "source": [
    "x = 5\n",
    "x *= 3\n",
    "print(x)"
   ]
  },
  {
   "cell_type": "code",
   "execution_count": 23,
   "id": "eeace194-eb7a-439d-b5aa-dcee61d66d38",
   "metadata": {
    "tags": []
   },
   "outputs": [
    {
     "name": "stdout",
     "output_type": "stream",
     "text": [
      "5.0\n"
     ]
    }
   ],
   "source": [
    "x = 10\n",
    "x /= 2\n",
    "print(x)"
   ]
  },
  {
   "cell_type": "code",
   "execution_count": 27,
   "id": "ae26b247-a557-4eed-a6ec-17678176b231",
   "metadata": {
    "tags": []
   },
   "outputs": [
    {
     "name": "stdout",
     "output_type": "stream",
     "text": [
      "1\n"
     ]
    }
   ],
   "source": [
    "x = 10\n",
    "x %= 3\n",
    "print(x)"
   ]
  },
  {
   "cell_type": "code",
   "execution_count": 30,
   "id": "ed4d54e8-30fc-43bf-9104-f0d17c1a55a2",
   "metadata": {
    "tags": []
   },
   "outputs": [
    {
     "name": "stdout",
     "output_type": "stream",
     "text": [
      "3\n"
     ]
    }
   ],
   "source": [
    "x = 10\n",
    "x //=3\n",
    "print(x)"
   ]
  },
  {
   "cell_type": "code",
   "execution_count": 31,
   "id": "6f18e381-749f-4d6d-b39c-7c9b6db1d03d",
   "metadata": {
    "tags": []
   },
   "outputs": [
    {
     "name": "stdout",
     "output_type": "stream",
     "text": [
      "1000\n"
     ]
    }
   ],
   "source": [
    "x = 10\n",
    "x **= 3\n",
    "print(x)"
   ]
  },
  {
   "cell_type": "code",
   "execution_count": 32,
   "id": "210ae8fd-9836-4682-98a1-7b134047cdee",
   "metadata": {
    "tags": []
   },
   "outputs": [
    {
     "name": "stdout",
     "output_type": "stream",
     "text": [
      "5\n"
     ]
    }
   ],
   "source": [
    "x = 16\n",
    "y = 3\n",
    "print(x//y)"
   ]
  },
  {
   "cell_type": "markdown",
   "id": "79cc0b67-1018-40a0-b097-6d5c0f6a5663",
   "metadata": {},
   "source": [
    "# Arithmetic operators"
   ]
  },
  {
   "cell_type": "code",
   "execution_count": 34,
   "id": "4cce5616-bb69-470e-a912-bdbe1e9679d5",
   "metadata": {
    "tags": []
   },
   "outputs": [
    {
     "name": "stdout",
     "output_type": "stream",
     "text": [
      "8\n"
     ]
    }
   ],
   "source": [
    "x = 5\n",
    "y = 3\n",
    "z = x+y\n",
    "print(z)"
   ]
  },
  {
   "cell_type": "code",
   "execution_count": 35,
   "id": "1c1de05a-857a-40eb-870e-f96a59f4cc32",
   "metadata": {
    "tags": []
   },
   "outputs": [
    {
     "name": "stdout",
     "output_type": "stream",
     "text": [
      "2\n"
     ]
    }
   ],
   "source": [
    "x = 5\n",
    "y = 3\n",
    "print (x-y)"
   ]
  },
  {
   "cell_type": "code",
   "execution_count": 37,
   "id": "8f1743ae-8edf-4342-a27e-e1d72e8cd479",
   "metadata": {
    "tags": []
   },
   "outputs": [
    {
     "name": "stdout",
     "output_type": "stream",
     "text": [
      "15\n"
     ]
    }
   ],
   "source": [
    "x = 5\n",
    "y = 3\n",
    "print (x*y)"
   ]
  },
  {
   "cell_type": "code",
   "execution_count": 38,
   "id": "ffa4fb00-dc59-4ddd-be5e-92df2ba9f679",
   "metadata": {
    "tags": []
   },
   "outputs": [
    {
     "name": "stdout",
     "output_type": "stream",
     "text": [
      "1.6666666666666667\n"
     ]
    }
   ],
   "source": [
    "print (x/y)"
   ]
  },
  {
   "cell_type": "code",
   "execution_count": 39,
   "id": "6c79b7a6-3dad-425f-a694-1ac556fa447a",
   "metadata": {
    "tags": []
   },
   "outputs": [
    {
     "name": "stdout",
     "output_type": "stream",
     "text": [
      "7\n"
     ]
    }
   ],
   "source": [
    "x = 15\n",
    "y = 2\n",
    "print (x//y)"
   ]
  },
  {
   "cell_type": "code",
   "execution_count": 41,
   "id": "fe289239-72cb-4707-8523-14b58b4547fd",
   "metadata": {
    "tags": []
   },
   "outputs": [
    {
     "name": "stdout",
     "output_type": "stream",
     "text": [
      "1\n"
     ]
    }
   ],
   "source": [
    "x = 10\n",
    "y = 3\n",
    "print (x % y)"
   ]
  },
  {
   "cell_type": "code",
   "execution_count": 42,
   "id": "e161be9a-9dac-409d-b43d-359968cd7389",
   "metadata": {
    "tags": []
   },
   "outputs": [
    {
     "name": "stdout",
     "output_type": "stream",
     "text": [
      "1000\n"
     ]
    }
   ],
   "source": [
    "x = 10\n",
    "y = 3\n",
    "print (x **y)"
   ]
  },
  {
   "cell_type": "markdown",
   "id": "bd6659b0-2076-4791-923f-1db16e2c227f",
   "metadata": {},
   "source": [
    "### Concatenating strings with operators"
   ]
  },
  {
   "cell_type": "code",
   "execution_count": 47,
   "id": "730b7d23-2810-43ab-84eb-854137677da2",
   "metadata": {
    "tags": []
   },
   "outputs": [
    {
     "name": "stdout",
     "output_type": "stream",
     "text": [
      "Coding is cool!\n"
     ]
    }
   ],
   "source": [
    "x = 'Coding'\n",
    "y = ' is cool!'\n",
    "print (x+y)"
   ]
  },
  {
   "cell_type": "code",
   "execution_count": 45,
   "id": "fd1f4d6c-42b9-4e14-8b09-6434a312b329",
   "metadata": {
    "tags": []
   },
   "outputs": [
    {
     "ename": "TypeError",
     "evalue": "unsupported operand type(s) for -: 'str' and 'str'",
     "output_type": "error",
     "traceback": [
      "\u001b[1;31m---------------------------------------------------------------------------\u001b[0m",
      "\u001b[1;31mTypeError\u001b[0m                                 Traceback (most recent call last)",
      "Cell \u001b[1;32mIn[45], line 3\u001b[0m\n\u001b[0;32m      1\u001b[0m x \u001b[38;5;241m=\u001b[39m \u001b[38;5;124m'\u001b[39m\u001b[38;5;124mCoding\u001b[39m\u001b[38;5;124m'\u001b[39m\n\u001b[0;32m      2\u001b[0m y \u001b[38;5;241m=\u001b[39m \u001b[38;5;124m'\u001b[39m\u001b[38;5;124m is cool!\u001b[39m\u001b[38;5;124m'\u001b[39m\n\u001b[1;32m----> 3\u001b[0m \u001b[38;5;28mprint\u001b[39m (x\u001b[38;5;241m-\u001b[39my)\n",
      "\u001b[1;31mTypeError\u001b[0m: unsupported operand type(s) for -: 'str' and 'str'"
     ]
    }
   ],
   "source": [
    "x = 'Coding'\n",
    "y = ' is cool!'\n",
    "print (x-y)"
   ]
  },
  {
   "cell_type": "markdown",
   "id": "dad39e71-df13-462b-8ba0-94b56f78eeae",
   "metadata": {},
   "source": [
    "# Comparison operators"
   ]
  },
  {
   "cell_type": "code",
   "execution_count": 48,
   "id": "12fa7c3b-7d03-41b6-b38c-20d266433083",
   "metadata": {
    "tags": []
   },
   "outputs": [
    {
     "name": "stdout",
     "output_type": "stream",
     "text": [
      "False\n"
     ]
    }
   ],
   "source": [
    "x = 10\n",
    "y = 3\n",
    "print (x == y )"
   ]
  },
  {
   "cell_type": "code",
   "execution_count": 49,
   "id": "03c26cb7-bba0-46b7-b5da-503dd3f7c700",
   "metadata": {
    "tags": []
   },
   "outputs": [
    {
     "name": "stdout",
     "output_type": "stream",
     "text": [
      "False\n"
     ]
    }
   ],
   "source": [
    "x = 'bob'\n",
    "y = 'Bob'\n",
    "print (x == y)"
   ]
  },
  {
   "cell_type": "code",
   "execution_count": 50,
   "id": "9967af42-49fc-43ab-9381-00254dcf897d",
   "metadata": {
    "tags": []
   },
   "outputs": [
    {
     "name": "stdout",
     "output_type": "stream",
     "text": [
      "True\n"
     ]
    }
   ],
   "source": [
    "x = 10\n",
    "y = 3\n",
    "print (x != y)"
   ]
  },
  {
   "cell_type": "code",
   "execution_count": 51,
   "id": "7ba5ce3c-14d5-459d-8b20-6cdc09930cc5",
   "metadata": {
    "tags": []
   },
   "outputs": [
    {
     "name": "stdout",
     "output_type": "stream",
     "text": [
      "True\n"
     ]
    }
   ],
   "source": [
    "x = 10\n",
    "y = 3\n",
    "print (x > y)"
   ]
  },
  {
   "cell_type": "code",
   "execution_count": 52,
   "id": "f992b1b7-c554-4be4-9270-80e4f5e3774b",
   "metadata": {
    "tags": []
   },
   "outputs": [
    {
     "name": "stdout",
     "output_type": "stream",
     "text": [
      "False\n"
     ]
    }
   ],
   "source": [
    "print (x < y)"
   ]
  },
  {
   "cell_type": "code",
   "execution_count": 54,
   "id": "32e24bb6-5ed9-408c-a208-374c725c17e9",
   "metadata": {
    "tags": []
   },
   "outputs": [
    {
     "name": "stdout",
     "output_type": "stream",
     "text": [
      "True\n"
     ]
    }
   ],
   "source": [
    "x = 10\n",
    "y = 10\n",
    "print (x >= y)"
   ]
  },
  {
   "cell_type": "code",
   "execution_count": 55,
   "id": "dcbd9092-442d-4ad2-8ae1-8757833840a5",
   "metadata": {
    "tags": []
   },
   "outputs": [
    {
     "name": "stdout",
     "output_type": "stream",
     "text": [
      "True\n"
     ]
    }
   ],
   "source": [
    "print (x <= y)"
   ]
  },
  {
   "cell_type": "markdown",
   "id": "88d94321-2014-4857-a205-b4fd6147cae8",
   "metadata": {},
   "source": [
    "# Logical Operators"
   ]
  },
  {
   "cell_type": "code",
   "execution_count": 58,
   "id": "f4a85244-819e-45d4-be6f-775ab65e486a",
   "metadata": {
    "tags": []
   },
   "outputs": [
    {
     "name": "stdout",
     "output_type": "stream",
     "text": [
      "True\n"
     ]
    }
   ],
   "source": [
    "x = 10\n",
    "print (x > 2 and x < 11)"
   ]
  },
  {
   "cell_type": "code",
   "execution_count": 61,
   "id": "e1138573-2308-4609-9aff-525ce4498699",
   "metadata": {
    "tags": []
   },
   "outputs": [
    {
     "name": "stdout",
     "output_type": "stream",
     "text": [
      "True\n"
     ]
    }
   ],
   "source": [
    "x = 10\n",
    "print (x > 1 or x < 10)"
   ]
  },
  {
   "cell_type": "code",
   "execution_count": 62,
   "id": "1e0fc8c0-7177-4c87-8f88-5d021d17088b",
   "metadata": {
    "tags": []
   },
   "outputs": [
    {
     "name": "stdout",
     "output_type": "stream",
     "text": [
      "False\n"
     ]
    }
   ],
   "source": [
    "x = 10\n",
    "print (not(x > 1 and x < 11))"
   ]
  },
  {
   "cell_type": "markdown",
   "id": "94a949d6-dcdb-4cea-b053-bab91ca0b875",
   "metadata": {},
   "source": [
    "# Identity operators"
   ]
  },
  {
   "cell_type": "code",
   "execution_count": 63,
   "id": "b88c0332-1517-40bc-b0f2-ab9acdd0064a",
   "metadata": {
    "tags": []
   },
   "outputs": [
    {
     "name": "stdout",
     "output_type": "stream",
     "text": [
      "True\n"
     ]
    }
   ],
   "source": [
    "x = ['truck', 'car', 'suv']\n",
    "print('truck' in x)"
   ]
  },
  {
   "cell_type": "code",
   "execution_count": 64,
   "id": "638f429c-ddc8-4b39-95d7-a1582257d5b9",
   "metadata": {
    "tags": []
   },
   "outputs": [
    {
     "name": "stdout",
     "output_type": "stream",
     "text": [
      "False\n"
     ]
    }
   ],
   "source": [
    "x = ['truck', 'car', 'suv']\n",
    "print ('truck' not in x)"
   ]
  },
  {
   "cell_type": "markdown",
   "id": "54a352e2-d526-4702-807a-0a0f9ae2fc69",
   "metadata": {},
   "source": [
    "# Data Types"
   ]
  },
  {
   "cell_type": "markdown",
   "id": "1e419b6e-e383-4210-95eb-82de3bee515c",
   "metadata": {},
   "source": [
    "## Numeric"
   ]
  },
  {
   "cell_type": "code",
   "execution_count": 65,
   "id": "efeed3e7-c57d-4466-ae47-e1a0efac66cb",
   "metadata": {
    "tags": []
   },
   "outputs": [
    {
     "name": "stdout",
     "output_type": "stream",
     "text": [
      "<class 'int'>\n"
     ]
    }
   ],
   "source": [
    "x = 5\n",
    "print(type(x))"
   ]
  },
  {
   "cell_type": "code",
   "execution_count": 66,
   "id": "3f64ec70-c909-4a0b-bf10-281b3b910c20",
   "metadata": {
    "tags": []
   },
   "outputs": [
    {
     "name": "stdout",
     "output_type": "stream",
     "text": [
      "<class 'float'>\n"
     ]
    }
   ],
   "source": [
    "x = 5.5\n",
    "print (type(x))"
   ]
  },
  {
   "cell_type": "code",
   "execution_count": 67,
   "id": "5b01feb6-6050-44e5-8025-9e29aac229f0",
   "metadata": {
    "tags": []
   },
   "outputs": [
    {
     "name": "stdout",
     "output_type": "stream",
     "text": [
      "5j\n"
     ]
    }
   ],
   "source": [
    "# Example of a complex number\n",
    "''' This is a multi-line\n",
    "comment to try and \n",
    "understand what the heck complex numbers\n",
    "are '''\n",
    "\n",
    "x = 5 * 1j\n",
    "print(x)"
   ]
  },
  {
   "cell_type": "markdown",
   "id": "0880278b-de9c-405c-8ac6-494530d0aa75",
   "metadata": {},
   "source": [
    "### Casting examples"
   ]
  },
  {
   "cell_type": "code",
   "execution_count": 68,
   "id": "2c32abc2-3acc-4b68-b8cb-db11ef532825",
   "metadata": {
    "tags": []
   },
   "outputs": [
    {
     "name": "stdout",
     "output_type": "stream",
     "text": [
      "5\n"
     ]
    }
   ],
   "source": [
    "x = 5.6\n",
    "print(int(x))"
   ]
  },
  {
   "cell_type": "code",
   "execution_count": 69,
   "id": "6b37e3e9-37d5-4a78-b4b3-664cf7b71308",
   "metadata": {
    "tags": []
   },
   "outputs": [
    {
     "name": "stdout",
     "output_type": "stream",
     "text": [
      "6\n"
     ]
    }
   ],
   "source": [
    "x = 5.6\n",
    "print (round(x))"
   ]
  },
  {
   "cell_type": "code",
   "execution_count": 70,
   "id": "154f9fe8-2565-4342-a0e6-5d37ab75ac27",
   "metadata": {
    "tags": []
   },
   "outputs": [
    {
     "name": "stdout",
     "output_type": "stream",
     "text": [
      "5.0\n"
     ]
    }
   ],
   "source": [
    "x = 5\n",
    "print(float(x))"
   ]
  },
  {
   "cell_type": "code",
   "execution_count": 71,
   "id": "a582e3a6-1ade-4a08-8950-9bd2443972b3",
   "metadata": {
    "tags": []
   },
   "outputs": [
    {
     "name": "stdout",
     "output_type": "stream",
     "text": [
      "5\n"
     ]
    }
   ],
   "source": [
    "x = '5'\n",
    "print(int(x))\n"
   ]
  },
  {
   "cell_type": "code",
   "execution_count": 74,
   "id": "abdc4866-6088-431c-95ce-329914731ed8",
   "metadata": {
    "tags": []
   },
   "outputs": [
    {
     "name": "stdout",
     "output_type": "stream",
     "text": [
      "5\n"
     ]
    }
   ],
   "source": [
    "print(x)"
   ]
  },
  {
   "cell_type": "markdown",
   "id": "22340810-d737-4e0e-baeb-855ab854fee2",
   "metadata": {},
   "source": [
    "### Text data type"
   ]
  },
  {
   "cell_type": "code",
   "execution_count": 75,
   "id": "6dff07ab-3463-47e8-b79a-cd69b3b6dfe0",
   "metadata": {
    "tags": []
   },
   "outputs": [
    {
     "name": "stdout",
     "output_type": "stream",
     "text": [
      "Hello Bob\n"
     ]
    }
   ],
   "source": [
    "x = \"Hello Bob\"\n",
    "print(x)"
   ]
  },
  {
   "cell_type": "code",
   "execution_count": 76,
   "id": "5158b1f2-428a-4918-8182-9fde12f21591",
   "metadata": {
    "tags": []
   },
   "outputs": [
    {
     "name": "stdout",
     "output_type": "stream",
     "text": [
      " Hello Bob\n",
      "This is my multi-line\n",
      "string example.\n"
     ]
    }
   ],
   "source": [
    "x = ''' Hello Bob\n",
    "This is my multi-line\n",
    "string example.'''\n",
    "\n",
    "print(x)"
   ]
  },
  {
   "cell_type": "code",
   "execution_count": 78,
   "id": "3fa1cfbd-8700-480f-87f5-7184478f8c48",
   "metadata": {
    "tags": []
   },
   "outputs": [
    {
     "name": "stdout",
     "output_type": "stream",
     "text": [
      " \n"
     ]
    }
   ],
   "source": [
    "x = \"Hello Bob\"\n",
    "\n",
    "print(x[5])"
   ]
  },
  {
   "cell_type": "code",
   "execution_count": 79,
   "id": "8f815505-bdda-4334-83e1-30210eef3bd0",
   "metadata": {
    "tags": []
   },
   "outputs": [
    {
     "name": "stdout",
     "output_type": "stream",
     "text": [
      "HELLO BOB\n"
     ]
    }
   ],
   "source": [
    "x = \"Hello Bob\"\n",
    "print(x.upper())"
   ]
  },
  {
   "cell_type": "code",
   "execution_count": 80,
   "id": "5634a105-fd00-421e-a8f6-f181aaecb9fd",
   "metadata": {
    "tags": []
   },
   "outputs": [
    {
     "name": "stdout",
     "output_type": "stream",
     "text": [
      "hello bob\n"
     ]
    }
   ],
   "source": [
    "x = \"Hello Bob\"\n",
    "print(x.lower())"
   ]
  },
  {
   "cell_type": "code",
   "execution_count": 82,
   "id": "fcca17e4-afdf-43ef-82de-1df16529e067",
   "metadata": {
    "tags": []
   },
   "outputs": [
    {
     "name": "stdout",
     "output_type": "stream",
     "text": [
      "Hello Bob, this is \"awesome\"\n"
     ]
    }
   ],
   "source": [
    "x = \"Hello Bob, this is \\\"awesome\\\"\"\n",
    "\n",
    "print(x)"
   ]
  },
  {
   "cell_type": "code",
   "execution_count": 85,
   "id": "9214f592-4a30-49a1-92e0-4e96dbd6593a",
   "metadata": {
    "tags": []
   },
   "outputs": [
    {
     "name": "stdout",
     "output_type": "stream",
     "text": [
      "Bob's stuff never works first time\n"
     ]
    }
   ],
   "source": [
    "x = 'Bob\\'s stuff never works first time'\n",
    "\n",
    "print(x)"
   ]
  },
  {
   "cell_type": "markdown",
   "id": "a33fc4ff-1ed7-4dc1-ad57-d32e2ec357b8",
   "metadata": {},
   "source": [
    "# Indentation examples"
   ]
  },
  {
   "cell_type": "code",
   "execution_count": 88,
   "id": "68c1edd5-b0fa-4bed-955c-1b539320d096",
   "metadata": {
    "tags": []
   },
   "outputs": [
    {
     "name": "stdout",
     "output_type": "stream",
     "text": [
      "y is greater than x\n"
     ]
    }
   ],
   "source": [
    "x = 10\n",
    "y = 15\n",
    "\n",
    "# This part of the code is a conditional statement\n",
    "\n",
    "if x>y:\n",
    "    print(\"x is greater than y\")\n",
    "else:\n",
    "    print(\"y is greater than x\")"
   ]
  },
  {
   "cell_type": "code",
   "execution_count": null,
   "id": "4357aadd-2a7e-4d9f-8d2d-33942dc50859",
   "metadata": {},
   "outputs": [],
   "source": []
  }
 ],
 "metadata": {
  "kernelspec": {
   "display_name": "Python 3 (ipykernel)",
   "language": "python",
   "name": "python3"
  },
  "language_info": {
   "codemirror_mode": {
    "name": "ipython",
    "version": 3
   },
   "file_extension": ".py",
   "mimetype": "text/x-python",
   "name": "python",
   "nbconvert_exporter": "python",
   "pygments_lexer": "ipython3",
   "version": "3.11.4"
  }
 },
 "nbformat": 4,
 "nbformat_minor": 5
}
