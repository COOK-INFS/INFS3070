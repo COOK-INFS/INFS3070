{
 "cells": [
  {
   "cell_type": "markdown",
   "id": "a43c5593-936d-4a75-931a-15504816ee7b",
   "metadata": {},
   "source": [
    "# Homework 1 solution"
   ]
  },
  {
   "cell_type": "code",
   "execution_count": 1,
   "id": "6267d376-8cf9-4ed1-b664-1aa73164b943",
   "metadata": {
    "tags": []
   },
   "outputs": [
    {
     "name": "stdin",
     "output_type": "stream",
     "text": [
      "Enter your current temperature in Fahrenheit:  85\n"
     ]
    },
    {
     "name": "stdout",
     "output_type": "stream",
     "text": [
      "It is warm outside.\n"
     ]
    }
   ],
   "source": [
    "# Weather Forecast\n",
    "\n",
    "# Get the current temperature in Fahrenheit from the user\n",
    "temp_fahrenheit = float(input(\"Enter your current temperature in Fahrenheit: \"))\n",
    "\n",
    "# Initialize a variable to store the result\n",
    "result = \"\"\n",
    "\n",
    "# Check the temperature and set the result\n",
    "if temp_fahrenheit > 85:\n",
    "    result = \"hot\"\n",
    "elif temp_fahrenheit >= 60:\n",
    "    result = \"warm\"\n",
    "else:\n",
    "    result = \"cold\"\n",
    "\n",
    "# Print the result\n",
    "print(f\"It is {result} outside.\")"
   ]
  },
  {
   "cell_type": "code",
   "execution_count": null,
   "id": "0d5626cb-e2a3-4c0a-981a-9726b0fec2b4",
   "metadata": {},
   "outputs": [],
   "source": []
  }
 ],
 "metadata": {
  "kernelspec": {
   "display_name": "Python 3 (ipykernel)",
   "language": "python",
   "name": "python3"
  },
  "language_info": {
   "codemirror_mode": {
    "name": "ipython",
    "version": 3
   },
   "file_extension": ".py",
   "mimetype": "text/x-python",
   "name": "python",
   "nbconvert_exporter": "python",
   "pygments_lexer": "ipython3",
   "version": "3.11.4"
  }
 },
 "nbformat": 4,
 "nbformat_minor": 5
}
