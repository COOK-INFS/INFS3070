import pandas as pd

dfTitles = pd.read_csv('http://infs3080-class.uccs.edu/pydev/dataFiles/IMDB/titleBasics.tsv', sep='\t', low_memory=False)
dfRatings = pd.read_csv('http://infs3080-class.uccs.edu/pydev/dataFiles/IMDB/ratings.tsv', sep='\t', low_memory=False)
dfNames = pd.read_csv('http://infs3080-class.uccs.edu/pydev/dataFiles/IMDB/nameBasics.tsv', sep='\t', low_memory=False)
dfCrew = pd.read_csv('http://infs3080-class.uccs.edu/pydev/dataFiles/IMDB/crew.tsv', sep='\t', low_memory=False)


dfNames.head()


dfCrew.head()


ratingsAndCrew = pd.merge(dfRatings, dfCrew, on='tconst')

ratingsAndCrew


dfCrewRename = ratingsAndCrew.rename(columns={'directors': 'nconst'})

dfCrewRename


ratingsCrewDir = pd.merge(dfCrewRename, dfNames, on='nconst')

ratingsCrewDir


ratingsCrewDir.sort_values(by=['averageRating', 'numVotes'], ascending=False)


semi1 = (ratingsCrewDir.sort_values(by=['averageRating', 'numVotes'], ascending=False))
         
semi2 = semi1[['primaryName', 'averageRating', 'numVotes']]
         
final = (semi2.head(1))
         
final


final.to_csv('question1.csv', index=False)


dfTitles.head()


dfRatings.head()


highRated = pd.merge(dfTitles, dfRatings, on='tconst')

highRated


movieFilter = (highRated.query('titleType == "movie" & startYear == "2000"'))

movieFilter


movieFilter.sort_values(by=['numVotes', 'averageRating'], ascending=False)


semi1 = (movieFilter.sort_values(by=['numVotes', 'averageRating'], ascending=False))

semi2 = semi1[['startYear', 'primaryTitle', 'numVotes', 'averageRating']]

final=(semi2.head(5))

final


final.to_csv('question2.csv', index=False)



